{
 "cells": [
  {
   "cell_type": "code",
   "execution_count": 37,
   "id": "e82fbf8a-5a8d-4e65-af53-37c2fa9bcd96",
   "metadata": {},
   "outputs": [],
   "source": [
    "import matplotlib\n",
    "import matplotlib.pyplot as plt\n",
    "import glob\n",
    "import codecs\n",
    "import numpy as np\n",
    "import pandas as pd\n",
    "import os\n",
    "from ipywidgets import Output\n",
    "from scipy.optimize import curve_fit\n",
    "import seaborn as sns\n",
    "from matplotlib import ticker\n",
    "%matplotlib inline"
   ]
  },
  {
   "cell_type": "code",
   "execution_count": 38,
   "id": "339a731a-cad6-469d-adcb-4bf3f33947c3",
   "metadata": {},
   "outputs": [],
   "source": [
    "# 測定温度を入力、低温から順に\n",
    "temperature_list = [0, 15, 30]\n",
    "data_dir = \"result/20220921 5HB/\"\n",
    "\n",
    "df_params_all = pd.DataFrame()\n",
    "\n",
    "for i, temp in enumerate(temperature_list):\n",
    "    data = data_dir + str(temperature_list[i]) + \"/kinetic_parameters/\" + str(temperature_list[i]) + \"_parameters.csv\"\n",
    "    with codecs.open(data, \"r\", \"UTF-8\", \"ignore\") as file:\n",
    "        df = pd.read_csv(file, index_col=0)\n",
    "        \n",
    "        df_params_all = pd.concat([df_params_all, df], axis=0)\n",
    "\n",
    "\n"
   ]
  },
  {
   "cell_type": "code",
   "execution_count": 58,
   "id": "f131be3a-0866-4d21-a1f2-e25fb352f425",
   "metadata": {},
   "outputs": [
    {
     "data": {
      "text/plain": [
       "<matplotlib.legend.Legend at 0x7fec51dd0640>"
      ]
     },
     "execution_count": 58,
     "metadata": {},
     "output_type": "execute_result"
    },
    {
     "data": {
      "image/png": "[encoded data removed]",
      "text/plain": [
       "<Figure size 504x432 with 1 Axes>"
      ]
     },
     "metadata": {
      "needs_background": "light"
     },
     "output_type": "display_data"
    }
   ],
   "source": [
    "# x_min = 0\n",
    "# x_max = 17.5\n",
    "# x_ticks = [0, 5*(10**7), 10*(10**7), 15*(10**7)]\n",
    "\n",
    "# ラベルに10^7を表示するのでx軸を10^7で割る\n",
    "x = df_params_all.index.values\n",
    "y_kt1 = df_params_all[\"k_t1\"]\n",
    "y_kt2 = df_params_all[\"k_t2\"]\n",
    "y_kp1 = df_params_all[\"k_p1\"]\n",
    "y_kp2 = df_params_all[\"k_p2\"]\n",
    "\n",
    "plt.rcParams[\"font.family\"] = \"sans-serif\"\n",
    "plt.rcParams[\"font.size\"] = 20\n",
    "\n",
    "#軸主目盛り線の長さ\n",
    "plt.rcParams[\"xtick.major.size\"] = 7\n",
    "plt.rcParams[\"ytick.major.size\"] = 7\n",
    "#x軸補助目盛り線の長さ\n",
    "plt.rcParams[\"xtick.minor.size\"] = 4\n",
    "\n",
    "plt.rcParams[\"legend.frameon\"] = False\n",
    "\n",
    "fig, ax = plt.subplots(1, 1, figsize=(7, 6))\n",
    "ax.set_xlabel('Temperature (°C)')\n",
    "# ax.set_xlabel('Light intensity ($10^{7}$ count $\\mathrm{cm^{-1}}$)')\n",
    "ax.set_ylabel('Kinetic parameters ($\\mathrm{s^{-1}}$)')\n",
    "\n",
    "# 軸の最大値、最小値、表示メモリ設定\n",
    "# ax.set_xlim(x_min, x_max)\n",
    "# ax.set_xticks(x_ticks)\n",
    "\n",
    "# x軸ラベルの下に空間を生成\n",
    "# ax.get_xaxis().set_tick_params(pad=8)\n",
    "\n",
    "# 目盛りを外に出す\n",
    "ax.tick_params(direction='out')\n",
    "\n",
    "# 2.5間隔で補助メモリ\n",
    "# ax.xaxis.set_minor_locator(ticker.MultipleLocator(7.5))\n",
    "\n",
    "# ×10表記\n",
    "# ax.xaxis.set_major_formatter(ScalarFormatter(useMathText=True))\n",
    "# ax.get_xaxis().get_offset_text().set_position((1.1,0))\n",
    "\n",
    "# 枠線の消去\n",
    "ax.spines['right'].set_visible(False)\n",
    "ax.spines['top'].set_visible(False)\n",
    "\n",
    "fig.subplots_adjust(left=0.2)\n",
    "ax.plot(x, y_kt1, marker=\"o\", color=\"red\", lw='1', label=\"$\\mathrm{k_{t1}}$\")\n",
    "ax.plot(x, y_kt2, marker=\"o\", color=\"blue\", lw='1', label=\"$\\mathrm{k_{t2}}$\")\n",
    "ax.plot(x, y_kp1, marker=\"o\", color=\"red\", lw='1', label=\"$\\mathrm{k_{p1}}$\")\n",
    "ax.plot(x, y_kp2, marker=\"o\", color=\"blue\", lw='1', label=\"$\\mathrm{k_{p2}}$\")\n",
    "\n",
    "# 凡例表示\n",
    "ax.legend(handletextpad=0.1)"
   ]
  },
  {
   "cell_type": "code",
   "execution_count": null,
   "id": "139cfa9e-2250-45c9-a7ca-1e4e0994a247",
   "metadata": {},
   "outputs": [],
   "source": []
  }
 ],
 "metadata": {
  "kernelspec": {
   "display_name": "Python 3",
   "language": "python",
   "name": "python3"
  },
  "language_info": {
   "codemirror_mode": {
    "name": "ipython",
    "version": 3
   },
   "file_extension": ".py",
   "mimetype": "text/x-python",
   "name": "python",
   "nbconvert_exporter": "python",
   "pygments_lexer": "ipython3",
   "version": "3.8.8"
  }
 },
 "nbformat": 4,
 "nbformat_minor": 5
}
