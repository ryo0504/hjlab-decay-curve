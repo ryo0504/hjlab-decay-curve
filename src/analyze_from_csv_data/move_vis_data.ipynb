{
 "cells": [
  {
   "cell_type": "code",
   "execution_count": 33,
   "id": "0f64e457-3606-4768-9d48-37016aaae222",
   "metadata": {},
   "outputs": [
    {
     "name": "stdout",
     "output_type": "stream",
     "text": [
      "-7 °C のデータをコピーしました。\n",
      "0 °C のデータをコピーしました。\n",
      "7 °C のデータをコピーしました。\n",
      "15 °C のデータをコピーしました。\n",
      "22 °C のデータをコピーしました。\n",
      "30 °C のデータをコピーしました。\n",
      "データのコピーが完了しました。\n"
     ]
    }
   ],
   "source": [
    "import os\n",
    "import shutil\n",
    "\n",
    "compound = \"rac-C2\"\n",
    "\n",
    "# 既存のファイルを上書きするかどうか\n",
    "overwrite = True\n",
    "\n",
    "# 既存のファイルが存在する場合の挙動（上書きする場合とスキップする場合）\n",
    "if overwrite:\n",
    "    copy_function = shutil.copyfile\n",
    "else:\n",
    "    copy_function = shutil.copy\n",
    "\n",
    "# 温度リスト\n",
    "temperatures = [-7, 0, 7, 15, 22, 30]\n",
    "\n",
    "# 元データのフォルダの親ディレクトリ\n",
    "source_parent_folder = \"../data/SPA_reanalyze_from_scv/\" + compound\n",
    "\n",
    "# コピー先のフォルダ\n",
    "destination_folder = \"../result/SPA_reanalyze_from_scv/\" + compound + \"/vis_data/\"\n",
    "os.makedirs(destination_folder, exist_ok=True)\n",
    "\n",
    "# 各温度の CSV ファイルをコピー\n",
    "for temp in temperatures:\n",
    "    source_path = os.path.join(source_parent_folder, str(temp), \"vis_data\", f\"SPA re-analyze_rac-C2_{temp}_vis.csv\")\n",
    "    if os.path.exists(source_path):\n",
    "        destination_path = os.path.join(destination_folder, f\"{temp}_vis.csv\")\n",
    "        copy_function(source_path, destination_path)\n",
    "        print(f\"{temp} °C のデータをコピーしました。\")\n",
    "    else:\n",
    "        print(f\"{temp} °C のデータが存在しません。\")\n",
    "\n",
    "print(\"データのコピーが完了しました。\")\n"
   ]
  },
  {
   "cell_type": "code",
   "execution_count": 34,
   "id": "f65cad4c-5623-4e8e-8e45-dc83edab7df1",
   "metadata": {},
   "outputs": [
    {
     "name": "stdout",
     "output_type": "stream",
     "text": [
      "データの結合と出力が完了しました。\n"
     ]
    }
   ],
   "source": [
    "import os\n",
    "import pandas as pd\n",
    "\n",
    "# 温度リスト\n",
    "temperatures = [-7, 0, 7, 15, 22, 30]\n",
    "\n",
    "# データフォルダ\n",
    "data_folder = \"../result/SPA_reanalyze_from_scv/\" + compound + \"/vis_data/\"\n",
    "\n",
    "# データフレームを格納するリスト\n",
    "data_frames = []\n",
    "\n",
    "# 各温度のデータを読み込んで処理\n",
    "for temp in temperatures:\n",
    "    file_path = os.path.join(data_folder, f\"{temp}_vis.csv\")\n",
    "    if os.path.exists(file_path):\n",
    "        df = pd.read_csv(file_path)\n",
    "        df[\"temperature\"] = f\"{temp} °C\"  # 温度情報を追加\n",
    "        data_frames.append(df)\n",
    "    else:\n",
    "        print(f\"{temp} °C のデータが存在しません。\")\n",
    "\n",
    "# データフレームを結合\n",
    "merged_df = pd.concat(data_frames, axis=1, ignore_index=True)\n",
    "\n",
    "# 出力ファイル名\n",
    "output_file = data_folder + \"merged_vis_data.csv\"\n",
    "\n",
    "# データを出力\n",
    "merged_df.to_csv(output_file, index=False)\n",
    "\n",
    "print(\"データの結合と出力が完了しました。\")\n"
   ]
  },
  {
   "cell_type": "code",
   "execution_count": null,
   "id": "f35b5408-51af-432d-bfea-b41d1dba4f9f",
   "metadata": {},
   "outputs": [],
   "source": []
  }
 ],
 "metadata": {
  "kernelspec": {
   "display_name": "Python 3",
   "language": "python",
   "name": "python3"
  },
  "language_info": {
   "codemirror_mode": {
    "name": "ipython",
    "version": 3
   },
   "file_extension": ".py",
   "mimetype": "text/x-python",
   "name": "python",
   "nbconvert_exporter": "python",
   "pygments_lexer": "ipython3",
   "version": "3.8.8"
  }
 },
 "nbformat": 4,
 "nbformat_minor": 5
}
