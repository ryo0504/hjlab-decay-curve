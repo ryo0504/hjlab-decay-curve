{
 "cells": [
  {
   "cell_type": "code",
   "execution_count": 16,
   "id": "2ece151b-c75d-4c6b-a2bc-ecbd863e76e8",
   "metadata": {
    "tags": []
   },
   "outputs": [
    {
     "data": {
      "application/vnd.jupyter.widget-view+json": {
       "model_id": "761ed88632bd454cbc01684045adfd4e",
       "version_major": 2,
       "version_minor": 0
      },
      "text/plain": [
       "Output()"
      ]
     },
     "metadata": {},
     "output_type": "display_data"
    },
    {
     "data": {
      "application/vnd.jupyter.widget-view+json": {
       "model_id": "6a8327959e6b4881a0f9c2f4fcf7cf0f",
       "version_major": 2,
       "version_minor": 0
      },
      "text/html": [
       "\n",
       "            <div style=\"display: inline-block;\">\n",
       "                <div class=\"jupyter-widgets widget-label\" style=\"text-align: center;\">\n",
       "                    Figure\n",
       "                </div>\n",
       "                <img src='data:image/png;base64,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' width=640.0/>\n",
       "            </div>\n",
       "        "
      ],
      "text/plain": [
       "Canvas(toolbar=Toolbar(toolitems=[('Home', 'Reset original view', 'home', 'home'), ('Back', 'Back to previous …"
      ]
     },
     "metadata": {},
     "output_type": "display_data"
    }
   ],
   "source": [
    "%matplotlib widget\n",
    "import matplotlib\n",
    "import matplotlib.pyplot as plt\n",
    "\n",
    "import numpy as np\n",
    "import pandas as pd\n",
    "import os\n",
    "from ipywidgets import Output\n",
    "import glob\n",
    "\n",
    "file = \"時系列/csv/xxxxx/xxxx.csv\"\n",
    "data = pd.read_csv(file)\n",
    "df_data = data.drop([\"old_name\", \"new_name\"], axis=1)\n",
    "\n",
    "file_name = file.split(\"/\")[-1].split(\".\")[0]\n",
    "result_dir = \"result/\" + \"/\".join(file.split(\"csv\")[1].split(\"/\")[1:-1]) + \"/\"\n",
    "\n",
    "df_data = df_data.rename(\n",
    "    columns={\"time \" + file_name: \"time\", \"abs \" + file_name: \"abs\"}\n",
    ")\n",
    "\n",
    "x = df_data[\"time\"]\n",
    "y = df_data[\"abs\"]\n",
    "\n",
    "data_list = []\n",
    "point_list = []\n",
    "mask = np.ones(len(x), dtype=bool)\n",
    "mask[0 : len(x)] = False\n",
    "# グラフの描画\n",
    "fig, ax = plt.subplots()\n",
    "ax.plot(x, y, \".\", color=\"blue\", zorder=1)\n",
    "ax.set_title(\"click graph\")\n",
    "\n",
    "\n",
    "state = 0\n",
    "lpoint = 0\n",
    "rpoint = 0\n",
    "\n",
    "out = Output()\n",
    "display(out)\n",
    "\n",
    "@out.capture(clear_output=True)\n",
    "def oncpaint(event):\n",
    "    global state\n",
    "    global lpoint, rpoint\n",
    "    ind = np.searchsorted(x, event.xdata)\n",
    "    # 開始点\n",
    "    if event.button == 3 and state == 0:\n",
    "        plt.title(\"Start point is \" + str(ind))\n",
    "        ax.plot([x[ind]], [y[ind]], \".\", color=\"red\", zorder=2)\n",
    "        fig.canvas.draw()\n",
    "        value = [event.ydata, event.xdata]\n",
    "        data_list.append(value)\n",
    "        state = 1\n",
    "        lpoint = ind\n",
    "        print(data_list)\n",
    "    # 終了点\n",
    "    elif event.button == 3 and state == 1:\n",
    "        plt.title(\"End point is \" + str(ind))\n",
    "        ax.plot([x[ind]], [y[ind]], \".\", color=\"red\", zorder=2)\n",
    "        fig.canvas.draw()\n",
    "        state = 2\n",
    "        rpoint = ind + 1\n",
    "        ax.plot(x[lpoint:rpoint], y[lpoint:rpoint], \".\", color=\"red\")\n",
    "        print(lpoint)\n",
    "    # キャンセル\n",
    "    elif event.button == 3 and state == 2:\n",
    "        plt.title(\"Canceled\")\n",
    "        state = 0\n",
    "        ax.plot(x[lpoint:rpoint], y[lpoint:rpoint], \".\", color=\"blue\")\n",
    "    # 決定\n",
    "    elif event.button == 1 and state == 2:\n",
    "        plt.title(\"Approved\")\n",
    "        mask[lpoint:rpoint] = True\n",
    "        state = 0\n",
    "        point_list.append([lpoint, rpoint])\n",
    "        print(lpoint, rpoint)\n",
    "    # 終了\n",
    "    elif event.key == \"q\":\n",
    "        fig.canvas.mpl_disconnect(cid)\n",
    "\n",
    "\n",
    "cid = fig.canvas.mpl_connect(\"button_press_event\", oncpaint)\n",
    "plt.show()"
   ]
  },
  {
   "cell_type": "code",
   "execution_count": 17,
   "id": "ec483c46-828e-4763-b753-265ba328a3c1",
   "metadata": {},
   "outputs": [],
   "source": [
    "# 選んだ部分をCSVファイルに書き出す\n",
    "df_list = []\n",
    "for n in range(len(point_list)):\n",
    "    dfn = df_data[point_list[n][0] : point_list[n][1]]\n",
    "\n",
    "    dfn.reset_index(inplace=True)\n",
    "    dfn = dfn.drop([\"index\"], axis=1)\n",
    "    df_list.append(dfn)\n",
    "\n",
    "\n",
    "df_result = pd.concat(df_list, axis=1)\n",
    "\n",
    "# df_resultの保存 まだノーマライズしてないデータを保存する\n",
    "os.makedirs(result_dir, exist_ok=True)\n",
    "df_result.to_csv(result_dir + file_name + \".csv\", index=False)"
   ]
  },
  {
   "cell_type": "markdown",
   "id": "24dea582-12e1-4488-8f8b-f0861c576e68",
   "metadata": {},
   "source": [
    "# normalized curve"
   ]
  },
  {
   "cell_type": "code",
   "execution_count": 18,
   "id": "995e82f2-a37d-4a56-bef4-f053ec6cf9d7",
   "metadata": {
    "tags": []
   },
   "outputs": [
    {
     "data": {
      "text/plain": [
       "[<matplotlib.lines.Line2D at 0x7f2b55ca8a30>]"
      ]
     },
     "execution_count": 18,
     "metadata": {},
     "output_type": "execute_result"
    },
    {
     "data": {
      "image/png": "[encoded data removed]",
      "text/plain": [
       "<Figure size 432x288 with 1 Axes>"
      ]
     },
     "metadata": {
      "needs_background": "light"
     },
     "output_type": "display_data"
    }
   ],
   "source": [
    "from scipy.optimize import curve_fit\n",
    "import seaborn as sns\n",
    "%matplotlib inline\n",
    "\n",
    "\n",
    "x = df_result['time'] - df_result['time'][0]\n",
    "y = (df_result['abs'] - min(df_result['abs'])) / (max(df_result['abs']) - min(df_result['abs']))\n",
    "\n",
    "fig = plt.figure()\n",
    "ax = fig.add_subplot(1,1,1)\n",
    "\n",
    "ax.set_xlabel('Time (s)')\n",
    "ax.set_ylabel('Normalized absorbance')\n",
    "\n",
    "ax.plot(x, y)"
   ]
  },
  {
   "cell_type": "markdown",
   "id": "8b33db4c-cc63-42c0-9583-43a7bd614f97",
   "metadata": {},
   "source": [
    "# 非線形回帰"
   ]
  },
  {
   "cell_type": "code",
   "execution_count": 19,
   "id": "9dfce8f6-3ae5-4758-89b8-8036e8b42796",
   "metadata": {
    "tags": []
   },
   "outputs": [
    {
     "data": {
      "text/plain": [
       "[<matplotlib.lines.Line2D at 0x7f2b55d2ccd0>]"
      ]
     },
     "execution_count": 19,
     "metadata": {},
     "output_type": "execute_result"
    },
    {
     "data": {
      "image/png": "[encoded data removed]",
      "text/plain": [
       "<Figure size 432x432 with 1 Axes>"
      ]
     },
     "metadata": {
      "needs_background": "light"
     },
     "output_type": "display_data"
    }
   ],
   "source": [
    "# 参考　https://kunassy.com/python-curve_fit/\n",
    "\n",
    "\n",
    "%matplotlib widget\n",
    "import matplotlib\n",
    "import matplotlib.pyplot as plt\n",
    "\n",
    "import numpy as np\n",
    "import pandas as pd\n",
    "import os\n",
    "from ipywidgets import Output\n",
    "from scipy.optimize import curve_fit\n",
    "import seaborn as sns\n",
    "%matplotlib inline\n",
    "\n",
    "# TODO Aは定数にしたい\n",
    "\n",
    "def kinetic_model_f1(x, B, C, D):\n",
    "    A = 1\n",
    "    return A*(1-((1-np.exp(D*x))/(1-C*np.exp(D*x)))) + B\n",
    "\n",
    "# df_result = pd.read_csv(\"result/20220315/S-Br2/30/480 001.csv\")\n",
    "x = df_result['time'] - df_result['time'][0]\n",
    "y = (df_result['abs'] - min(df_result['abs'])) / (max(df_result['abs']) - min(df_result['abs']))\n",
    "\n",
    "data_kinetic_model_f1 = np.array([x, y])\n",
    "\n",
    "param_init_dict = {\n",
    "        \"data_kinetic_model_f1\":[0, 0.6, -0.01]\n",
    "        }\n",
    "# グラフ描画用のサンプルデータ\n",
    "sample_x = np.array(x)\n",
    "\n",
    "\n",
    "def fit(func, x, param_init):\n",
    "    \"\"\"\n",
    "    func:データxに近似したい任意の関数\n",
    "    x:データ\n",
    "    param_init:パラメータの初期値\n",
    "    popｔ:最適化されたパラメータ\n",
    "    pocv:パラメータの共分散\n",
    "    \"\"\"\n",
    "    X = x[0]\n",
    "    Y = x[1]\n",
    "    popt,pocv=curve_fit(func, X, Y, p0=param_init)\n",
    "    perr = np.sqrt(np.diag(pocv)) #対角成分が各パラメータの標準誤差に相当\n",
    "    y=func(sample_x, *popt)\n",
    "    return y, popt, perr\n",
    "\n",
    "\n",
    "fit_result = fit(kinetic_model_f1, data_kinetic_model_f1, param_init_dict[\"data_kinetic_model_f1\"])\n",
    "fig, ax = plt.subplots(1, 1, figsize=(6, 6))\n",
    "ax.scatter(data_kinetic_model_f1[0], data_kinetic_model_f1[1])\n",
    "ax.plot(sample_x, fit_result[0], color=\"red\")"
   ]
  },
  {
   "cell_type": "code",
   "execution_count": 20,
   "id": "4e28f918-afb4-4210-a1dd-854b3d22d819",
   "metadata": {},
   "outputs": [
    {
     "data": {
      "text/html": [
       "<div>\n",
       "<style scoped>\n",
       "    .dataframe tbody tr th:only-of-type {\n",
       "        vertical-align: middle;\n",
       "    }\n",
       "\n",
       "    .dataframe tbody tr th {\n",
       "        vertical-align: top;\n",
       "    }\n",
       "\n",
       "    .dataframe thead th {\n",
       "        text-align: right;\n",
       "    }\n",
       "</style>\n",
       "<table border=\"1\" class=\"dataframe\">\n",
       "  <thead>\n",
       "    <tr style=\"text-align: right;\">\n",
       "      <th></th>\n",
       "      <th>30 75 490</th>\n",
       "    </tr>\n",
       "  </thead>\n",
       "  <tbody>\n",
       "    <tr>\n",
       "      <th>opt_B</th>\n",
       "      <td>0.006351</td>\n",
       "    </tr>\n",
       "    <tr>\n",
       "      <th>opt_C</th>\n",
       "      <td>-1.266129</td>\n",
       "    </tr>\n",
       "    <tr>\n",
       "      <th>opt_D</th>\n",
       "      <td>-0.048655</td>\n",
       "    </tr>\n",
       "    <tr>\n",
       "      <th>k_1</th>\n",
       "      <td>0.048655</td>\n",
       "    </tr>\n",
       "    <tr>\n",
       "      <th>k_2</th>\n",
       "      <td>-0.027184</td>\n",
       "    </tr>\n",
       "  </tbody>\n",
       "</table>\n",
       "</div>"
      ],
      "text/plain": [
       "       30 75 490\n",
       "opt_B   0.006351\n",
       "opt_C  -1.266129\n",
       "opt_D  -0.048655\n",
       "k_1     0.048655\n",
       "k_2    -0.027184"
      ]
     },
     "execution_count": 20,
     "metadata": {},
     "output_type": "execute_result"
    }
   ],
   "source": [
    "opt_B = fit_result[1][0]\n",
    "opt_C = fit_result[1][1]\n",
    "opt_D = fit_result[1][2]\n",
    "\n",
    "k_1 = -opt_D\n",
    "k_2 = -(opt_C * opt_D)/(1 - opt_C)\n",
    "\n",
    "column_name = file_name\n",
    "\n",
    "# 測定条件の入力を詳細に行いたい場合\n",
    "# temp = 30\n",
    "# wavelength = 490\n",
    "# filter_combination_list = [\"001\", \"010\", \"011\", \"100\", \"101\", \"110\"]\n",
    "# period_3 = 25\n",
    "# filter_combination = filter_combination_list[1]\n",
    "\n",
    "# if 'period_3' in locals():\n",
    "#     column_name = str(temp) + \" \" + str(period_3) + \" \" + str(wavelength) + \" \" + filter_combination\n",
    "# else:\n",
    "#     column_name = str(temp) + \" \" + str(wavelength) + \" \" + filter_combination\n",
    "    \n",
    "opt_columns = [\"opt_B\", \"opt_C\", \"opt_D\", \"k_1\", \"k_2\"]\n",
    "opt_params = np.array([opt_B, opt_C, opt_D, k_1, k_2])\n",
    "\n",
    "df_opt_params = pd.DataFrame(opt_params, index=opt_columns, columns=[column_name])\n",
    "\n",
    "df_opt_params"
   ]
  },
  {
   "cell_type": "code",
   "execution_count": 21,
   "id": "d0ab83c1-6e86-4ad9-a904-886e16fb12ca",
   "metadata": {},
   "outputs": [],
   "source": [
    "# fit_resultフォルダに保存し、最後に結合したCSVを出力\n",
    "fit_result_dir = result_dir + \"fit_result/\"\n",
    "os.makedirs(fit_result_dir, exist_ok=True)\n",
    "df_opt_params.to_csv(fit_result_dir + column_name + \".csv\", index=True)"
   ]
  },
  {
   "cell_type": "markdown",
   "id": "3ec74f6a-66e4-4a88-97f7-721f0693baf6",
   "metadata": {},
   "source": [
    "# ファイルの結合"
   ]
  },
  {
   "cell_type": "code",
   "execution_count": 22,
   "id": "8d297904-0159-4e52-be7d-b4dac684f8c1",
   "metadata": {},
   "outputs": [],
   "source": [
    "# fit_resultフォルダに保存されたcsvファイルの結合、保存\n",
    "import glob\n",
    "import codecs\n",
    "\n",
    "df_opt_params_all = pd.DataFrame()\n",
    "data_dir = fit_result_dir + \"*.csv\"\n",
    "# 手動\n",
    "# data_dir = \"\"\n",
    "paths = [p for p in glob.glob(data_dir)]\n",
    "\n",
    "for path in paths:\n",
    "    with codecs.open(path, \"r\", \"UTF-8\", \"ignore\") as file:\n",
    "        df = pd.read_csv(file)\n",
    "        df = df.rename(\n",
    "            columns={df.columns[0]: \"params\"}\n",
    "        )\n",
    "        df = df.set_index(\"params\")\n",
    "        df_opt_params_all = pd.concat([df_opt_params_all, df], axis=1)\n",
    "\n",
    "# 保存\n",
    "os.makedirs(fit_result_dir + \"concat\", exist_ok=True)\n",
    "df_opt_params_all.to_csv(fit_result_dir + \"concat/df_opt_params_all.csv\", index=True)"
   ]
  },
  {
   "cell_type": "code",
   "execution_count": null,
   "id": "f245d12c-225b-462c-834f-98013cd3a730",
   "metadata": {},
   "outputs": [],
   "source": []
  }
 ],
 "metadata": {
  "kernelspec": {
   "display_name": "Python 3",
   "language": "python",
   "name": "python3"
  },
  "language_info": {
   "codemirror_mode": {
    "name": "ipython",
    "version": 3
   },
   "file_extension": ".py",
   "mimetype": "text/x-python",
   "name": "python",
   "nbconvert_exporter": "python",
   "pygments_lexer": "ipython3",
   "version": "3.8.8"
  }
 },
 "nbformat": 4,
 "nbformat_minor": 5
}
