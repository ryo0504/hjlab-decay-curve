{
 "cells": [
  {
   "cell_type": "code",
   "execution_count": 1,
   "id": "2ece151b-c75d-4c6b-a2bc-ecbd863e76e8",
   "metadata": {
    "tags": []
   },
   "outputs": [
    {
     "data": {
      "application/vnd.jupyter.widget-view+json": {
       "model_id": "eae39b736fd2426db178b3600fcccb58",
       "version_major": 2,
       "version_minor": 0
      },
      "text/plain": [
       "Output()"
      ]
     },
     "metadata": {},
     "output_type": "display_data"
    },
    {
     "data": {
      "application/vnd.jupyter.widget-view+json": {
       "model_id": "22e102e453b744daa818900f102693a2",
       "version_major": 2,
       "version_minor": 0
      },
      "text/html": [
       "\n",
       "            <div style=\"display: inline-block;\">\n",
       "                <div class=\"jupyter-widgets widget-label\" style=\"text-align: center;\">\n",
       "                    Figure\n",
       "                </div>\n",
       "                <img src='data:image/png;base64,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' width=640.0/>\n",
       "            </div>\n",
       "        "
      ],
      "text/plain": [
       "Canvas(toolbar=Toolbar(toolitems=[('Home', 'Reset original view', 'home', 'home'), ('Back', 'Back to previous …"
      ]
     },
     "metadata": {},
     "output_type": "display_data"
    }
   ],
   "source": [
    "%matplotlib widget\n",
    "import matplotlib\n",
    "import matplotlib.pyplot as plt\n",
    "\n",
    "import numpy as np\n",
    "import pandas as pd\n",
    "import os\n",
    "from ipywidgets import Output\n",
    "import glob\n",
    "\n",
    "file = \"時系列/csv/20220909 5HB/30/30 0 490.csv\"\n",
    "data = pd.read_csv(file)\n",
    "df_data = data.drop([\"old_name\", \"new_name\"], axis=1)\n",
    "\n",
    "file_name = file.split(\"/\")[-1].split(\".\")[0]\n",
    "result_dir = \"result/\" + \"/\".join(file.split(\"csv\")[1].split(\"/\")[1:-1]) + \"/\"\n",
    "\n",
    "df_data = df_data.rename(\n",
    "    columns={\"time \" + file_name: \"time\", \"abs \" + file_name: \"abs\"}\n",
    ")\n",
    "\n",
    "x = df_data[\"time\"]\n",
    "y = df_data[\"abs\"]\n",
    "\n",
    "data_list = []\n",
    "point_list = []\n",
    "mask = np.ones(len(x), dtype=bool)\n",
    "mask[0 : len(x)] = False\n",
    "# グラフの描画\n",
    "fig, ax = plt.subplots()\n",
    "ax.plot(x, y, \".\", color=\"blue\", zorder=1)\n",
    "ax.set_title(\"click graph\")\n",
    "\n",
    "\n",
    "state = 0\n",
    "lpoint = 0\n",
    "rpoint = 0\n",
    "\n",
    "out = Output()\n",
    "display(out)\n",
    "\n",
    "@out.capture(clear_output=True)\n",
    "def oncpaint(event):\n",
    "    global state\n",
    "    global lpoint, rpoint\n",
    "    ind = np.searchsorted(x, event.xdata)\n",
    "    # 開始点\n",
    "    if event.button == 3 and state == 0:\n",
    "        plt.title(\"Start point is \" + str(ind))\n",
    "        ax.plot([x[ind]], [y[ind]], \".\", color=\"red\", zorder=2)\n",
    "        fig.canvas.draw()\n",
    "        value = [event.ydata, event.xdata]\n",
    "        data_list.append(value)\n",
    "        state = 1\n",
    "        lpoint = ind\n",
    "        print(data_list)\n",
    "    # 終了点\n",
    "    elif event.button == 3 and state == 1:\n",
    "        plt.title(\"End point is \" + str(ind))\n",
    "        ax.plot([x[ind]], [y[ind]], \".\", color=\"red\", zorder=2)\n",
    "        fig.canvas.draw()\n",
    "        state = 2\n",
    "        rpoint = ind + 1\n",
    "        ax.plot(x[lpoint:rpoint], y[lpoint:rpoint], \".\", color=\"red\")\n",
    "        print(lpoint)\n",
    "    # キャンセル\n",
    "    elif event.button == 3 and state == 2:\n",
    "        plt.title(\"Canceled\")\n",
    "        state = 0\n",
    "        ax.plot(x[lpoint:rpoint], y[lpoint:rpoint], \".\", color=\"blue\")\n",
    "    # 決定\n",
    "    elif event.button == 1 and state == 2:\n",
    "        plt.title(\"Approved\")\n",
    "        mask[lpoint:rpoint] = True\n",
    "        state = 0\n",
    "        point_list.append([lpoint, rpoint])\n",
    "        print(lpoint, rpoint)\n",
    "    # 終了\n",
    "    elif event.key == \"q\":\n",
    "        fig.canvas.mpl_disconnect(cid)\n",
    "\n",
    "\n",
    "cid = fig.canvas.mpl_connect(\"button_press_event\", oncpaint)\n",
    "plt.show()"
   ]
  },
  {
   "cell_type": "code",
   "execution_count": 2,
   "id": "ec483c46-828e-4763-b753-265ba328a3c1",
   "metadata": {},
   "outputs": [],
   "source": [
    "# 選んだ部分をCSVファイルに書き出す\n",
    "df_list = []\n",
    "for n in range(len(point_list)):\n",
    "    dfn = df_data[point_list[n][0] : point_list[n][1]]\n",
    "\n",
    "    dfn.reset_index(inplace=True)\n",
    "    dfn = dfn.drop([\"index\"], axis=1)\n",
    "    df_list.append(dfn)\n",
    "\n",
    "\n",
    "df_result = pd.concat(df_list, axis=1)\n",
    "\n",
    "# df_resultの保存 まだノーマライズしてないデータを保存する\n",
    "os.makedirs(result_dir, exist_ok=True)\n",
    "df_result.to_csv(result_dir + file_name + \".csv\", index=False)"
   ]
  },
  {
   "cell_type": "markdown",
   "id": "24dea582-12e1-4488-8f8b-f0861c576e68",
   "metadata": {},
   "source": [
    "# normalized curve"
   ]
  },
  {
   "cell_type": "code",
   "execution_count": 3,
   "id": "995e82f2-a37d-4a56-bef4-f053ec6cf9d7",
   "metadata": {
    "tags": []
   },
   "outputs": [
    {
     "data": {
      "text/plain": [
       "[<matplotlib.lines.Line2D at 0x7f346cbf3e50>]"
      ]
     },
     "execution_count": 3,
     "metadata": {},
     "output_type": "execute_result"
    },
    {
     "data": {
      "image/png": "[encoded data removed]",
      "text/plain": [
       "<Figure size 432x288 with 1 Axes>"
      ]
     },
     "metadata": {
      "needs_background": "light"
     },
     "output_type": "display_data"
    }
   ],
   "source": [
    "from scipy.optimize import curve_fit\n",
    "import seaborn as sns\n",
    "%matplotlib inline\n",
    "\n",
    "\n",
    "x = df_result['time'] - df_result['time'][0]\n",
    "y = (df_result['abs'] - min(df_result['abs'])) / (max(df_result['abs']) - min(df_result['abs']))\n",
    "\n",
    "fig = plt.figure()\n",
    "ax = fig.add_subplot(1,1,1)\n",
    "\n",
    "ax.set_xlabel('Time (s)')\n",
    "ax.set_ylabel('Normalized absorbance')\n",
    "\n",
    "ax.plot(x, y)"
   ]
  },
  {
   "cell_type": "markdown",
   "id": "8b33db4c-cc63-42c0-9583-43a7bd614f97",
   "metadata": {},
   "source": [
    "# 非線形回帰"
   ]
  },
  {
   "cell_type": "code",
   "execution_count": 4,
   "id": "9dfce8f6-3ae5-4758-89b8-8036e8b42796",
   "metadata": {
    "tags": []
   },
   "outputs": [
    {
     "data": {
      "text/plain": [
       "[<matplotlib.lines.Line2D at 0x7f346cb8f070>]"
      ]
     },
     "execution_count": 4,
     "metadata": {},
     "output_type": "execute_result"
    },
    {
     "data": {
      "image/png": "[encoded data removed]",
      "text/plain": [
       "<Figure size 432x432 with 1 Axes>"
      ]
     },
     "metadata": {
      "needs_background": "light"
     },
     "output_type": "display_data"
    }
   ],
   "source": [
    "# 参考　https://kunassy.com/python-curve_fit/\n",
    "\n",
    "\n",
    "%matplotlib widget\n",
    "import matplotlib\n",
    "import matplotlib.pyplot as plt\n",
    "\n",
    "import numpy as np\n",
    "import pandas as pd\n",
    "import os\n",
    "from ipywidgets import Output\n",
    "from scipy.optimize import curve_fit\n",
    "import seaborn as sns\n",
    "%matplotlib inline\n",
    "\n",
    "# TODO Aは定数にしたい\n",
    "\n",
    "def kinetic_model_f1(x, B, C, D):\n",
    "    A = 1\n",
    "    return A*(1-((1-np.exp(D*x))/(1-C*np.exp(D*x)))) + B\n",
    "\n",
    "# df_result = pd.read_csv(\"result/20220315/S-Br2/30/480 001.csv\")\n",
    "x = df_result['time'] - df_result['time'][0]\n",
    "y = (df_result['abs'] - min(df_result['abs'])) / (max(df_result['abs']) - min(df_result['abs']))\n",
    "\n",
    "data_kinetic_model_f1 = np.array([x, y])\n",
    "\n",
    "param_init_dict = {\n",
    "        \"data_kinetic_model_f1\":[0, 0.6, -0.01]\n",
    "        }\n",
    "# グラフ描画用のサンプルデータ\n",
    "sample_x = np.array(x)\n",
    "\n",
    "\n",
    "def fit(func, x, param_init):\n",
    "    \"\"\"\n",
    "    func:データxに近似したい任意の関数\n",
    "    x:データ\n",
    "    param_init:パラメータの初期値\n",
    "    popｔ:最適化されたパラメータ\n",
    "    pocv:パラメータの共分散\n",
    "    \"\"\"\n",
    "    X = x[0]\n",
    "    Y = x[1]\n",
    "    popt,pocv=curve_fit(func, X, Y, p0=param_init)\n",
    "    perr = np.sqrt(np.diag(pocv)) #対角成分が各パラメータの標準誤差に相当\n",
    "    y=func(sample_x, *popt)\n",
    "    return y, popt, perr\n",
    "\n",
    "\n",
    "fit_result = fit(kinetic_model_f1, data_kinetic_model_f1, param_init_dict[\"data_kinetic_model_f1\"])\n",
    "fig, ax = plt.subplots(1, 1, figsize=(6, 6))\n",
    "ax.scatter(data_kinetic_model_f1[0], data_kinetic_model_f1[1])\n",
    "ax.plot(sample_x, fit_result[0], color=\"red\")"
   ]
  },
  {
   "cell_type": "code",
   "execution_count": 6,
   "id": "4e28f918-afb4-4210-a1dd-854b3d22d819",
   "metadata": {},
   "outputs": [
    {
     "data": {
      "text/html": [
       "<div>\n",
       "<style scoped>\n",
       "    .dataframe tbody tr th:only-of-type {\n",
       "        vertical-align: middle;\n",
       "    }\n",
       "\n",
       "    .dataframe tbody tr th {\n",
       "        vertical-align: top;\n",
       "    }\n",
       "\n",
       "    .dataframe thead th {\n",
       "        text-align: right;\n",
       "    }\n",
       "</style>\n",
       "<table border=\"1\" class=\"dataframe\">\n",
       "  <thead>\n",
       "    <tr style=\"text-align: right;\">\n",
       "      <th></th>\n",
       "      <th>30 0 490</th>\n",
       "    </tr>\n",
       "  </thead>\n",
       "  <tbody>\n",
       "    <tr>\n",
       "      <th>opt_B</th>\n",
       "      <td>0.006851</td>\n",
       "    </tr>\n",
       "    <tr>\n",
       "      <th>opt_C</th>\n",
       "      <td>-0.629131</td>\n",
       "    </tr>\n",
       "    <tr>\n",
       "      <th>opt_D</th>\n",
       "      <td>-0.049676</td>\n",
       "    </tr>\n",
       "    <tr>\n",
       "      <th>k_1</th>\n",
       "      <td>0.049676</td>\n",
       "    </tr>\n",
       "    <tr>\n",
       "      <th>k_2</th>\n",
       "      <td>-0.019184</td>\n",
       "    </tr>\n",
       "  </tbody>\n",
       "</table>\n",
       "</div>"
      ],
      "text/plain": [
       "       30 0 490\n",
       "opt_B  0.006851\n",
       "opt_C -0.629131\n",
       "opt_D -0.049676\n",
       "k_1    0.049676\n",
       "k_2   -0.019184"
      ]
     },
     "execution_count": 6,
     "metadata": {},
     "output_type": "execute_result"
    }
   ],
   "source": [
    "opt_B = fit_result[1][0]\n",
    "opt_C = fit_result[1][1]\n",
    "opt_D = fit_result[1][2]\n",
    "\n",
    "k_1 = -opt_D\n",
    "k_2 = -(opt_C * opt_D)/(1 - opt_C)\n",
    "\n",
    "column_name = file_name\n",
    "\n",
    "# 測定条件の入力を詳細に行いたい場合\n",
    "# temp = 30\n",
    "# wavelength = 490\n",
    "# filter_combination_list = [\"001\", \"010\", \"011\", \"100\", \"101\", \"110\"]\n",
    "# period_3 = 25\n",
    "# filter_combination = filter_combination_list[1]\n",
    "\n",
    "# if 'period_3' in locals():\n",
    "#     column_name = str(temp) + \" \" + str(period_3) + \" \" + str(wavelength) + \" \" + filter_combination\n",
    "# else:\n",
    "#     column_name = str(temp) + \" \" + str(wavelength) + \" \" + filter_combination\n",
    "    \n",
    "opt_columns = [\"opt_B\", \"opt_C\", \"opt_D\", \"k_1\", \"k_2\"]\n",
    "opt_params = np.array([opt_B, opt_C, opt_D, k_1, k_2])\n",
    "\n",
    "df_opt_params = pd.DataFrame(opt_params, index=opt_columns, columns=[column_name])\n",
    "\n",
    "df_opt_params"
   ]
  },
  {
   "cell_type": "code",
   "execution_count": 7,
   "id": "d0ab83c1-6e86-4ad9-a904-886e16fb12ca",
   "metadata": {},
   "outputs": [],
   "source": [
    "# fit_resultフォルダに保存し、最後に結合したCSVを出力\n",
    "fit_result_dir = result_dir + \"fit_result/\"\n",
    "os.makedirs(fit_result_dir, exist_ok=True)\n",
    "df_opt_params.to_csv(fit_result_dir + column_name + \".csv\", index=True)"
   ]
  },
  {
   "cell_type": "markdown",
   "id": "3ec74f6a-66e4-4a88-97f7-721f0693baf6",
   "metadata": {},
   "source": [
    "# ファイルの結合"
   ]
  },
  {
   "cell_type": "code",
   "execution_count": 8,
   "id": "8d297904-0159-4e52-be7d-b4dac684f8c1",
   "metadata": {},
   "outputs": [],
   "source": [
    "# fit_resultフォルダに保存されたcsvファイルの結合、保存\n",
    "import glob\n",
    "import codecs\n",
    "\n",
    "df_opt_params_all = pd.DataFrame()\n",
    "data_dir = fit_result_dir + \"*.csv\"\n",
    "# 手動\n",
    "# data_dir = \"\"\n",
    "paths = [p for p in glob.glob(data_dir)]\n",
    "\n",
    "for path in paths:\n",
    "    with codecs.open(path, \"r\", \"UTF-8\", \"ignore\") as file:\n",
    "        df = pd.read_csv(file)\n",
    "        df = df.rename(\n",
    "            columns={df.columns[0]: \"params\"}\n",
    "        )\n",
    "        df = df.set_index(\"params\")\n",
    "        df_opt_params_all = pd.concat([df_opt_params_all, df], axis=1)\n",
    "\n",
    "# 保存\n",
    "df_opt_params_all.to_csv(fit_result_dir + \"df_opt_params_all.csv\", index=True)"
   ]
  },
  {
   "cell_type": "code",
   "execution_count": null,
   "id": "f245d12c-225b-462c-834f-98013cd3a730",
   "metadata": {},
   "outputs": [],
   "source": []
  }
 ],
 "metadata": {
  "kernelspec": {
   "display_name": "Python 3",
   "language": "python",
   "name": "python3"
  },
  "language_info": {
   "codemirror_mode": {
    "name": "ipython",
    "version": 3
   },
   "file_extension": ".py",
   "mimetype": "text/x-python",
   "name": "python",
   "nbconvert_exporter": "python",
   "pygments_lexer": "ipython3",
   "version": "3.8.8"
  }
 },
 "nbformat": 4,
 "nbformat_minor": 5
}
