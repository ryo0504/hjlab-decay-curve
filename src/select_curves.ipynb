{
 "cells": [
  {
   "cell_type": "code",
   "execution_count": 1,
   "id": "2ece151b-c75d-4c6b-a2bc-ecbd863e76e8",
   "metadata": {
    "collapsed": true,
    "jupyter": {
     "outputs_hidden": true
    },
    "tags": []
   },
   "outputs": [
    {
     "data": {
      "application/vnd.jupyter.widget-view+json": {
       "model_id": "2f45dcd6b8994e299e79c846dc569fa7",
       "version_major": 2,
       "version_minor": 0
      },
      "text/plain": [
       "Output()"
      ]
     },
     "metadata": {},
     "output_type": "display_data"
    },
    {
     "data": {
      "application/vnd.jupyter.widget-view+json": {
       "model_id": "61e383915c8b42098baf7054517bb130",
       "version_major": 2,
       "version_minor": 0
      },
      "text/html": [
       "\n",
       "            <div style=\"display: inline-block;\">\n",
       "                <div class=\"jupyter-widgets widget-label\" style=\"text-align: center;\">\n",
       "                    Figure\n",
       "                </div>\n",
       "                <img src='data:image/png;base64,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' width=640.0/>\n",
       "            </div>\n",
       "        "
      ],
      "text/plain": [
       "Canvas(toolbar=Toolbar(toolitems=[('Home', 'Reset original view', 'home', 'home'), ('Back', 'Back to previous …"
      ]
     },
     "metadata": {},
     "output_type": "display_data"
    }
   ],
   "source": [
    "%matplotlib widget\n",
    "import matplotlib\n",
    "import matplotlib.pyplot as plt\n",
    "\n",
    "import numpy as np\n",
    "import pandas as pd\n",
    "import os\n",
    "from ipywidgets import Output\n",
    "\n",
    "file = \"時系列/csv/20220315/S-Br2/30/480 001.csv\"\n",
    "data = pd.read_csv(file)\n",
    "df_data = data.drop([\"old_name\", \"new_name\"], axis=1)\n",
    "\n",
    "file_name = file.split(\"/\")[-1].split(\".\")[0]\n",
    "result_dir = \"result/\" + \"/\".join(file.split(\"csv\")[1].split(\"/\")[1:-1]) + \"/\"\n",
    "\n",
    "df_data = df_data.rename(\n",
    "    columns={\"time \" + file_name: \"time\", \"abs \" + file_name: \"abs\"}\n",
    ")\n",
    "\n",
    "x = df_data[\"time\"]\n",
    "y = df_data[\"abs\"]\n",
    "\n",
    "data_list = []\n",
    "point_list = []\n",
    "mask = np.ones(len(x), dtype=bool)\n",
    "mask[0 : len(x)] = False\n",
    "# グラフの描画\n",
    "fig, ax = plt.subplots()\n",
    "ax.plot(x, y, \".\", color=\"blue\", zorder=1)\n",
    "ax.set_title(\"click graph\")\n",
    "\n",
    "\n",
    "state = 0\n",
    "lpoint = 0\n",
    "rpoint = 0\n",
    "\n",
    "out = Output()\n",
    "display(out)\n",
    "\n",
    "@out.capture(clear_output=True)\n",
    "def oncpaint(event):\n",
    "    global state\n",
    "    global lpoint, rpoint\n",
    "    ind = np.searchsorted(x, event.xdata)\n",
    "    # 開始点\n",
    "    if event.button == 3 and state == 0:\n",
    "        plt.title(\"Start point is \" + str(ind))\n",
    "        ax.plot([x[ind]], [y[ind]], \".\", color=\"red\", zorder=2)\n",
    "        fig.canvas.draw()\n",
    "        value = [event.ydata, event.xdata]\n",
    "        data_list.append(value)\n",
    "        state = 1\n",
    "        lpoint = ind\n",
    "        print(data_list)\n",
    "    # 終了点\n",
    "    elif event.button == 3 and state == 1:\n",
    "        plt.title(\"End point is \" + str(ind))\n",
    "        ax.plot([x[ind]], [y[ind]], \".\", color=\"red\", zorder=2)\n",
    "        fig.canvas.draw()\n",
    "        state = 2\n",
    "        rpoint = ind + 1\n",
    "        ax.plot(x[lpoint:rpoint], y[lpoint:rpoint], \".\", color=\"red\")\n",
    "        print(lpoint)\n",
    "    # キャンセル\n",
    "    elif event.button == 3 and state == 2:\n",
    "        plt.title(\"Canceled\")\n",
    "        state = 0\n",
    "        ax.plot(x[lpoint:rpoint], y[lpoint:rpoint], \".\", color=\"blue\")\n",
    "    # 決定\n",
    "    elif event.button == 1 and state == 2:\n",
    "        plt.title(\"Approved\")\n",
    "        mask[lpoint:rpoint] = True\n",
    "        state = 0\n",
    "        point_list.append([lpoint, rpoint])\n",
    "        print(lpoint, rpoint)\n",
    "    # 終了\n",
    "    elif event.key == \"q\":\n",
    "        fig.canvas.mpl_disconnect(cid)\n",
    "\n",
    "\n",
    "cid = fig.canvas.mpl_connect(\"button_press_event\", oncpaint)\n",
    "plt.show()"
   ]
  },
  {
   "cell_type": "code",
   "execution_count": 2,
   "id": "ec483c46-828e-4763-b753-265ba328a3c1",
   "metadata": {},
   "outputs": [],
   "source": [
    "# 選んだ部分をCSVファイルに書き出す\n",
    "df_list = []\n",
    "for n in range(len(point_list)):\n",
    "    dfn = df_data[point_list[n][0] : point_list[n][1]]\n",
    "\n",
    "    dfn.reset_index(inplace=True)\n",
    "    dfn = dfn.drop([\"index\"], axis=1)\n",
    "    df_list.append(dfn)\n",
    "\n",
    "\n",
    "df_result = pd.concat(df_list, axis=1)\n",
    "\n",
    "# df_resultの保存 まだノーマライズしてないデータを保存する\n",
    "os.makedirs(result_dir, exist_ok=True)\n",
    "df_result.to_csv(result_dir + file_name + \".csv\", index=False)"
   ]
  },
  {
   "cell_type": "markdown",
   "id": "24dea582-12e1-4488-8f8b-f0861c576e68",
   "metadata": {},
   "source": [
    "# normalized curve"
   ]
  },
  {
   "cell_type": "code",
   "execution_count": 14,
   "id": "995e82f2-a37d-4a56-bef4-f053ec6cf9d7",
   "metadata": {
    "collapsed": true,
    "jupyter": {
     "outputs_hidden": true
    },
    "tags": []
   },
   "outputs": [
    {
     "data": {
      "text/plain": [
       "[<matplotlib.lines.Line2D at 0x7fabf9481be0>]"
      ]
     },
     "execution_count": 14,
     "metadata": {},
     "output_type": "execute_result"
    },
    {
     "data": {
      "image/png": "[encoded data removed]",
      "text/plain": [
       "<Figure size 432x288 with 1 Axes>"
      ]
     },
     "metadata": {
      "needs_background": "light"
     },
     "output_type": "display_data"
    }
   ],
   "source": [
    "import seaborn as sns\n",
    "%matplotlib inline\n",
    "\n",
    "\n",
    "x = df_result['time'] - df_result['time'][0]\n",
    "y = (df_result['abs'] - min(df_result['abs'])) / (max(df_result['abs']) - min(df_result['abs']))\n",
    "\n",
    "fig = plt.figure()\n",
    "ax = fig.add_subplot(1,1,1)\n",
    "\n",
    "ax.set_xlabel('Time (s)')\n",
    "ax.set_ylabel('Normalized absorbance')\n",
    "\n",
    "ax.plot(x, y)"
   ]
  },
  {
   "cell_type": "markdown",
   "id": "8b33db4c-cc63-42c0-9583-43a7bd614f97",
   "metadata": {},
   "source": [
    "# 非線形回帰"
   ]
  },
  {
   "cell_type": "code",
   "execution_count": 25,
   "id": "9dfce8f6-3ae5-4758-89b8-8036e8b42796",
   "metadata": {
    "collapsed": true,
    "jupyter": {
     "outputs_hidden": true
    },
    "tags": []
   },
   "outputs": [
    {
     "data": {
      "text/plain": [
       "[<matplotlib.lines.Line2D at 0x7fabf6e9ab80>]"
      ]
     },
     "execution_count": 25,
     "metadata": {},
     "output_type": "execute_result"
    },
    {
     "data": {
      "image/png": "[encoded data removed]",
      "text/plain": [
       "<Figure size 432x432 with 1 Axes>"
      ]
     },
     "metadata": {
      "needs_background": "light"
     },
     "output_type": "display_data"
    }
   ],
   "source": [
    "# 参考　https://kunassy.com/python-curve_fit/\n",
    "\n",
    "def kinetic_model_f1(x, A, B, C, D):\n",
    "    return A*(1-(np.exp(D*x))/(1-C*np.exp(D*x))) + B\n",
    "\n",
    "df_result = pd.read_csv(\"result/20220315/S-Br2/30/480 001.csv\")\n",
    "x = df_result['time'] - df_result['time'][0]\n",
    "y = (df_result['abs'] - min(df_result['abs'])) / (max(df_result['abs']) - min(df_result['abs']))\n",
    "\n",
    "data_kinetic_model_f1 = np.array([x, y])\n",
    "\n",
    "param_init_dict = {\n",
    "        \"data_kinetic_model_f1\":[1, 0, 0.6, -0.01]\n",
    "        }\n",
    "# グラフ描画用のサンプルデータ\n",
    "sample_x = np.array(x)\n",
    "\n",
    "\n",
    "def fit(func, x, param_init):\n",
    "    \"\"\"\n",
    "    func:データxに近似したい任意の関数\n",
    "    x:データ\n",
    "    param_init:パラメータの初期値\n",
    "    popｔ:最適化されたパラメータ\n",
    "    pocv:パラメータの共分散\n",
    "    \"\"\"\n",
    "    X = x[0]\n",
    "    Y = x[1]\n",
    "    popt,pocv=curve_fit(func, X, Y, p0=param_init)\n",
    "    perr = np.sqrt(np.diag(pocv)) #対角成分が各パラメータの標準誤差に相当\n",
    "    y=func(sample_x, *popt)\n",
    "    return y, popt, perr\n",
    "\n",
    "\n",
    "result = fit(kinetic_model_f1, data_kinetic_model_f1, param_init_dict[\"data_kinetic_model_f1\"])\n",
    "fig, ax = plt.subplots(1, 1, figsize=(6, 6))\n",
    "ax.scatter(data_kinetic_model_f1[0], data_kinetic_model_f1[1])\n",
    "ax.plot(sample_x, result[0], color=\"red\")"
   ]
  },
  {
   "cell_type": "code",
   "execution_count": null,
   "id": "d2018229-f20c-4cb2-8ad4-3fe5e8a3f446",
   "metadata": {},
   "outputs": [],
   "source": []
  }
 ],
 "metadata": {
  "kernelspec": {
   "display_name": "Python 3",
   "language": "python",
   "name": "python3"
  },
  "language_info": {
   "codemirror_mode": {
    "name": "ipython",
    "version": 3
   },
   "file_extension": ".py",
   "mimetype": "text/x-python",
   "name": "python",
   "nbconvert_exporter": "python",
   "pygments_lexer": "ipython3",
   "version": "3.8.8"
  }
 },
 "nbformat": 4,
 "nbformat_minor": 5
}
