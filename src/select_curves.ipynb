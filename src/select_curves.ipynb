{
 "cells": [
  {
   "cell_type": "code",
   "execution_count": 35,
   "id": "2ece151b-c75d-4c6b-a2bc-ecbd863e76e8",
   "metadata": {},
   "outputs": [
    {
     "data": {
      "application/vnd.jupyter.widget-view+json": {
       "model_id": "e38b836697954c59bc5d44ff6a5723f1",
       "version_major": 2,
       "version_minor": 0
      },
      "text/plain": [
       "Output()"
      ]
     },
     "metadata": {},
     "output_type": "display_data"
    },
    {
     "data": {
      "application/vnd.jupyter.widget-view+json": {
       "model_id": "b5f9d9c2942749a89fdc5218b9678802",
       "version_major": 2,
       "version_minor": 0
      },
      "text/html": [
       "\n",
       "            <div style=\"display: inline-block;\">\n",
       "                <div class=\"jupyter-widgets widget-label\" style=\"text-align: center;\">\n",
       "                    Figure\n",
       "                </div>\n",
       "                <img src='data:image/png;base64,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' width=640.0/>\n",
       "            </div>\n",
       "        "
      ],
      "text/plain": [
       "Canvas(toolbar=Toolbar(toolitems=[('Home', 'Reset original view', 'home', 'home'), ('Back', 'Back to previous …"
      ]
     },
     "metadata": {},
     "output_type": "display_data"
    }
   ],
   "source": [
    "%matplotlib widget\n",
    "import matplotlib\n",
    "import matplotlib.pyplot as plt\n",
    "\n",
    "import numpy as np\n",
    "import pandas as pd\n",
    "import os\n",
    "from ipywidgets import Output\n",
    "\n",
    "file = \"時系列/csv/2022xxxx/xxx.csv\"\n",
    "data = pd.read_csv(file)\n",
    "df_data = data.drop([\"old_name\", \"new_name\"], axis=1)\n",
    "\n",
    "file_name = file.split(\"/\")[-1].split(\".\")[0]\n",
    "result_dir = \"result/\" + \"/\".join(file.split(\"csv\")[1].split(\"/\")[1:-1]) + \"/\"\n",
    "\n",
    "df_data = df_data.rename(\n",
    "    columns={\"time \" + file_name: \"time\", \"abs \" + file_name: \"abs\"}\n",
    ")\n",
    "\n",
    "x = df_data[\"time\"]\n",
    "y = df_data[\"abs\"]\n",
    "\n",
    "data_list = []\n",
    "point_list = []\n",
    "mask = np.ones(len(x), dtype=bool)\n",
    "mask[0 : len(x)] = False\n",
    "# グラフの描画\n",
    "fig, ax = plt.subplots()\n",
    "ax.plot(x, y, \".\", color=\"blue\", zorder=1)\n",
    "ax.set_title(\"click graph\")\n",
    "\n",
    "\n",
    "state = 0\n",
    "lpoint = 0\n",
    "rpoint = 0\n",
    "\n",
    "out = Output()\n",
    "display(out)\n",
    "\n",
    "@out.capture(clear_output=True)\n",
    "def oncpaint(event):\n",
    "    global state\n",
    "    global lpoint, rpoint\n",
    "    ind = np.searchsorted(x, event.xdata)\n",
    "    # 開始点\n",
    "    if event.button == 3 and state == 0:\n",
    "        plt.title(\"Start point is \" + str(ind))\n",
    "        ax.plot([x[ind]], [y[ind]], \".\", color=\"red\", zorder=2)\n",
    "        fig.canvas.draw()\n",
    "        value = [event.ydata, event.xdata]\n",
    "        data_list.append(value)\n",
    "        state = 1\n",
    "        lpoint = ind\n",
    "        print(data_list)\n",
    "    # 終了点\n",
    "    elif event.button == 3 and state == 1:\n",
    "        plt.title(\"End point is \" + str(ind))\n",
    "        ax.plot([x[ind]], [y[ind]], \".\", color=\"red\", zorder=2)\n",
    "        fig.canvas.draw()\n",
    "        state = 2\n",
    "        rpoint = ind + 1\n",
    "        ax.plot(x[lpoint:rpoint], y[lpoint:rpoint], \".\", color=\"red\")\n",
    "        print(lpoint)\n",
    "    # キャンセル\n",
    "    elif event.button == 3 and state == 2:\n",
    "        plt.title(\"Canceled\")\n",
    "        state = 0\n",
    "        ax.plot(x[lpoint:rpoint], y[lpoint:rpoint], \".\", color=\"blue\")\n",
    "    # 決定\n",
    "    elif event.button == 1 and state == 2:\n",
    "        plt.title(\"Approved\")\n",
    "        mask[lpoint:rpoint] = True\n",
    "        state = 0\n",
    "        point_list.append([lpoint, rpoint])\n",
    "        print(lpoint, rpoint)\n",
    "    # 終了\n",
    "    elif event.key == \"q\":\n",
    "        fig.canvas.mpl_disconnect(cid)\n",
    "\n",
    "\n",
    "cid = fig.canvas.mpl_connect(\"button_press_event\", oncpaint)\n",
    "plt.show()"
   ]
  },
  {
   "cell_type": "code",
   "execution_count": 36,
   "id": "ec483c46-828e-4763-b753-265ba328a3c1",
   "metadata": {},
   "outputs": [],
   "source": [
    "# 選んだ部分をCSVファイルに書き出す\n",
    "df_list = []\n",
    "for n in range(len(point_list)):\n",
    "    dfn = df_data[point_list[n][0] : point_list[n][1]]\n",
    "\n",
    "    dfn.reset_index(inplace=True)\n",
    "    dfn = dfn.drop([\"index\"], axis=1)\n",
    "    df_list.append(dfn)\n",
    "\n",
    "\n",
    "df_result = pd.concat(df_list, axis=1)\n",
    "\n",
    "# df_resultの保存 まだノーマライズしてないデータを保存する\n",
    "os.makedirs(result_dir, exist_ok=True)\n",
    "df_result.to_csv(result_dir + file_name + \".csv\", index=False)"
   ]
  },
  {
   "cell_type": "raw",
   "id": "caa89ae8-e9ba-43d4-a3ff-d03be73d61ab",
   "metadata": {},
   "source": [
    "\n"
   ]
  },
  {
   "cell_type": "code",
   "execution_count": null,
   "id": "995e82f2-a37d-4a56-bef4-f053ec6cf9d7",
   "metadata": {},
   "outputs": [],
   "source": []
  },
  {
   "cell_type": "code",
   "execution_count": null,
   "id": "47dc9d84-9a6d-4e33-a1fa-9d34cc4bcdcd",
   "metadata": {},
   "outputs": [],
   "source": []
  },
  {
   "cell_type": "code",
   "execution_count": null,
   "id": "8fadb7e1-bb9c-4f90-9dfa-083ad1ebbb6d",
   "metadata": {},
   "outputs": [],
   "source": []
  },
  {
   "cell_type": "code",
   "execution_count": null,
   "id": "06bff05d-aeea-4ed0-bd41-1f6ae9b5a6fb",
   "metadata": {},
   "outputs": [],
   "source": []
  },
  {
   "cell_type": "code",
   "execution_count": null,
   "id": "b56d1d94-aa38-4997-8072-368cb3bbe097",
   "metadata": {},
   "outputs": [],
   "source": []
  },
  {
   "cell_type": "code",
   "execution_count": null,
   "id": "544d77e6-148b-4711-b5f6-33c8d151491e",
   "metadata": {},
   "outputs": [],
   "source": []
  }
 ],
 "metadata": {
  "kernelspec": {
   "display_name": "Python 3",
   "language": "python",
   "name": "python3"
  },
  "language_info": {
   "codemirror_mode": {
    "name": "ipython",
    "version": 3
   },
   "file_extension": ".py",
   "mimetype": "text/x-python",
   "name": "python",
   "nbconvert_exporter": "python",
   "pygments_lexer": "ipython3",
   "version": "3.8.8"
  }
 },
 "nbformat": 4,
 "nbformat_minor": 5
}
