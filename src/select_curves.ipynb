{
 "cells": [
  {
   "cell_type": "code",
   "execution_count": 1,
   "id": "2ece151b-c75d-4c6b-a2bc-ecbd863e76e8",
   "metadata": {},
   "outputs": [
    {
     "data": {
      "application/vnd.jupyter.widget-view+json": {
       "model_id": "d6b9013abb774c7196f709dea64f4aa1",
       "version_major": 2,
       "version_minor": 0
      },
      "text/plain": [
       "Output()"
      ]
     },
     "metadata": {},
     "output_type": "display_data"
    },
    {
     "data": {
      "application/vnd.jupyter.widget-view+json": {
       "model_id": "31d855ff6e2f4ddfad88ca286ed60d15",
       "version_major": 2,
       "version_minor": 0
      },
      "text/html": [
       "\n",
       "            <div style=\"display: inline-block;\">\n",
       "                <div class=\"jupyter-widgets widget-label\" style=\"text-align: center;\">\n",
       "                    Figure\n",
       "                </div>\n",
       "                <img src='data:image/png;base64,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' width=640.0/>\n",
       "            </div>\n",
       "        "
      ],
      "text/plain": [
       "Canvas(toolbar=Toolbar(toolitems=[('Home', 'Reset original view', 'home', 'home'), ('Back', 'Back to previous …"
      ]
     },
     "metadata": {},
     "output_type": "display_data"
    }
   ],
   "source": [
    "%matplotlib widget\n",
    "import matplotlib\n",
    "import matplotlib.pyplot as plt\n",
    "\n",
    "import numpy as np\n",
    "import pandas as pd\n",
    "import matplotlib.pyplot as plt\n",
    "import os\n",
    "from ipywidgets import Output\n",
    "\n",
    "file = \"時系列/csv/600 560 0.csv\"\n",
    "data = pd.read_csv(file)\n",
    "df_data = data.drop([\"old_name\", \"new_name\"], axis=1)\n",
    "\n",
    "file_name = file.split(\"/\")[-1].split(\".\")[0]\n",
    "result_dir = \"result/\"\n",
    "\n",
    "df_data = df_data.rename(\n",
    "    columns={\"time \" + file_name: \"time\", \"abs \" + file_name: \"abs\"}\n",
    ")\n",
    "\n",
    "x = df_data[\"time\"]\n",
    "y = df_data[\"abs\"]\n",
    "\n",
    "# x = df[\"time \" + file_name]\n",
    "# y = df[\"abs \" + file_name]\n",
    "\n",
    "data_list = []\n",
    "point_list = []\n",
    "mask = np.ones(len(x), dtype=bool)\n",
    "mask[0 : len(x)] = False\n",
    "# グラフの描画\n",
    "fig, ax = plt.subplots()\n",
    "ax.plot(x, y, \".\", color=\"blue\", zorder=1)\n",
    "ax.set_title(\"click graph\")\n",
    "\n",
    "\n",
    "state = 0\n",
    "lpoint = 0\n",
    "rpoint = 0\n",
    "\n",
    "out = Output()\n",
    "display(out)\n",
    "\n",
    "@out.capture(clear_output=True)\n",
    "def oncpaint(event):\n",
    "    global state\n",
    "    global lpoint, rpoint\n",
    "    ind = np.searchsorted(x, event.xdata)\n",
    "    # plt.title(\"You clicked index=\" + str(ind))\n",
    "    # 開始点\n",
    "    if event.button == 3 and state == 0:\n",
    "        plt.title(\"Start point is \" + str(ind))\n",
    "        ax.plot([x[ind]], [y[ind]], \".\", color=\"red\", zorder=2)\n",
    "        fig.canvas.draw()\n",
    "        value = [event.ydata, event.xdata]\n",
    "        data_list.append(value)\n",
    "        state = 1\n",
    "        lpoint = ind\n",
    "        print(data_list)\n",
    "    # 終了点\n",
    "    elif event.button == 3 and state == 1:\n",
    "        plt.title(\"End point is \" + str(ind))\n",
    "        ax.plot([x[ind]], [y[ind]], \".\", color=\"red\", zorder=2)\n",
    "        fig.canvas.draw()\n",
    "        state = 2\n",
    "        rpoint = ind + 1\n",
    "        ax.plot(x[lpoint:rpoint], y[lpoint:rpoint], \".\", color=\"red\")\n",
    "        print(lpoint)\n",
    "    # キャンセル\n",
    "    elif event.button == 3 and state == 2:\n",
    "        plt.title(\"Canceled\")\n",
    "        state = 0\n",
    "        ax.plot(x[lpoint:rpoint], y[lpoint:rpoint], \".\", color=\"blue\")\n",
    "    # 決定\n",
    "#     elif event.button == 1 and event.dblclick == 1 and state == 2:\n",
    "    elif event.button == 1 and state == 2:\n",
    "        plt.title(\"Approved\")\n",
    "        mask[lpoint:rpoint] = True\n",
    "        state = 0\n",
    "        # point_list.append([lpoint + int(\":\") + rpoint])\n",
    "        point_list.append([lpoint, rpoint])\n",
    "        # point_list.append([str(lpoint) + \":\" + str(rpoint)])\n",
    "        print(lpoint, rpoint)\n",
    "    # 終了\n",
    "    elif event.key == \"q\":\n",
    "        fig.canvas.mpl_disconnect(cid)\n",
    "\n",
    "\n",
    "cid = fig.canvas.mpl_connect(\"button_press_event\", oncpaint)\n",
    "plt.show()"
   ]
  },
  {
   "cell_type": "code",
   "execution_count": 6,
   "id": "ec483c46-828e-4763-b753-265ba328a3c1",
   "metadata": {},
   "outputs": [],
   "source": [
    "# 選んだ部分をCSVファイルに書き出す\n",
    "df_list = []\n",
    "for n in range(len(point_list)):\n",
    "    dfn = df_data[point_list[n][0] : point_list[n][1]]\n",
    "\n",
    "    dfn.reset_index(inplace=True)\n",
    "    dfn = dfn.drop([\"index\"], axis=1)\n",
    "    df_list.append(dfn)\n",
    "\n",
    "\n",
    "df_result = pd.concat(df_list, axis=1)\n",
    "\n",
    "# df_resultの保存 まだノーマライズしてないデータを保存する\n",
    "os.makedirs(result_dir, exist_ok=True)\n",
    "# df_result.to_csv(result_dir + \"extracted_decay \" + file_name + \".csv\", index=False)\n",
    "\n",
    "df_result.to_csv(result_dir + file_name + \".csv\", index=False)"
   ]
  },
  {
   "cell_type": "code",
   "execution_count": null,
   "id": "7300c791-adc7-4dc3-aa0f-4a22456bd24d",
   "metadata": {},
   "outputs": [],
   "source": []
  }
 ],
 "metadata": {
  "kernelspec": {
   "display_name": "Python 3",
   "language": "python",
   "name": "python3"
  },
  "language_info": {
   "codemirror_mode": {
    "name": "ipython",
    "version": 3
   },
   "file_extension": ".py",
   "mimetype": "text/x-python",
   "name": "python",
   "nbconvert_exporter": "python",
   "pygments_lexer": "ipython3",
   "version": "3.8.8"
  }
 },
 "nbformat": 4,
 "nbformat_minor": 5
}
