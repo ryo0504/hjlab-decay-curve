{
 "cells": [
  {
   "cell_type": "code",
   "execution_count": 5,
   "id": "2ece151b-c75d-4c6b-a2bc-ecbd863e76e8",
   "metadata": {},
   "outputs": [
    {
     "data": {
      "application/vnd.jupyter.widget-view+json": {
       "model_id": "5fb00ed9fd0646729371cc3140918238",
       "version_major": 2,
       "version_minor": 0
      },
      "text/plain": [
       "Canvas(toolbar=Toolbar(toolitems=[('Home', 'Reset original view', 'home', 'home'), ('Back', 'Back to previous …"
      ]
     },
     "metadata": {},
     "output_type": "display_data"
    },
    {
     "data": {
      "application/vnd.jupyter.widget-view+json": {
       "model_id": "3ac1f04843844185ab8d940a0de4e12c",
       "version_major": 2,
       "version_minor": 0
      },
      "text/plain": [
       "Output()"
      ]
     },
     "metadata": {},
     "output_type": "display_data"
    }
   ],
   "source": [
    "%matplotlib widget\n",
    "import matplotlib\n",
    "import matplotlib.pyplot as plt\n",
    "\n",
    "import numpy as np\n",
    "import pandas as pd\n",
    "import matplotlib.pyplot as plt\n",
    "import os\n",
    "from ipywidgets import Output\n",
    "\n",
    "file = \"時系列/csv/600 560 0.csv\"\n",
    "data = pd.read_csv(file)\n",
    "df_data = data.drop([\"old_name\", \"new_name\"], axis=1)\n",
    "\n",
    "file_name = file.split(\"/\")[-1].split(\".\")[0]\n",
    "result_dir = \"result/\"\n",
    "\n",
    "df_data = df_data.rename(\n",
    "    columns={\"time \" + file_name: \"time\", \"abs \" + file_name: \"abs\"}\n",
    ")\n",
    "\n",
    "x = df_data[\"time\"]\n",
    "y = df_data[\"abs\"]\n",
    "\n",
    "# x = df[\"time \" + file_name]\n",
    "# y = df[\"abs \" + file_name]\n",
    "\n",
    "data_list = []\n",
    "point_list = []\n",
    "mask = np.ones(len(x), dtype=bool)\n",
    "mask[0 : len(x)] = False\n",
    "# グラフの描画\n",
    "fig, ax = plt.subplots()\n",
    "ax.plot(x, y, \".\", color=\"blue\", zorder=1)\n",
    "ax.set_title(\"click graph\")\n",
    "\n",
    "\n",
    "state = 0\n",
    "lpoint = 0\n",
    "rpoint = 0\n",
    "\n",
    "out = Output()\n",
    "display(out)\n",
    "\n",
    "@out.capture(clear_output=True)\n",
    "def oncpaint(event):\n",
    "    global state\n",
    "    global lpoint, rpoint\n",
    "    ind = np.searchsorted(x, event.xdata)\n",
    "    # plt.title(\"You clicked index=\" + str(ind))\n",
    "    # 開始点\n",
    "    if event.button == 3 and state == 0:\n",
    "        plt.title(\"Start point is \" + str(ind))\n",
    "        ax.plot([x[ind]], [y[ind]], \".\", color=\"red\", zorder=2)\n",
    "        fig.canvas.draw()\n",
    "        value = [event.ydata, event.xdata]\n",
    "        data_list.append(value)\n",
    "        state = 1\n",
    "        lpoint = ind\n",
    "        print(data_list)\n",
    "    # 終了点\n",
    "    elif event.button == 3 and state == 1:\n",
    "        plt.title(\"End point is \" + str(ind))\n",
    "        ax.plot([x[ind]], [y[ind]], \".\", color=\"red\", zorder=2)\n",
    "        fig.canvas.draw()\n",
    "        state = 2\n",
    "        rpoint = ind + 1\n",
    "        ax.plot(x[lpoint:rpoint], y[lpoint:rpoint], \".\", color=\"red\")\n",
    "        print(lpoint)\n",
    "    # キャンセル\n",
    "    elif event.button == 3 and state == 2:\n",
    "        plt.title(\"Canceled\")\n",
    "        state = 0\n",
    "        ax.plot(x[lpoint:rpoint], y[lpoint:rpoint], \".\", color=\"blue\")\n",
    "    # 決定\n",
    "#     elif event.button == 1 and event.dblclick == 1 and state == 2:\n",
    "    elif event.button == 1 and state == 2:\n",
    "        plt.title(\"Approved\")\n",
    "        mask[lpoint:rpoint] = True\n",
    "        state = 0\n",
    "        # point_list.append([lpoint + int(\":\") + rpoint])\n",
    "        point_list.append([lpoint, rpoint])\n",
    "        # point_list.append([str(lpoint) + \":\" + str(rpoint)])\n",
    "        print(lpoint, rpoint)\n",
    "    # 終了\n",
    "    elif event.key == \"q\":\n",
    "        fig.canvas.mpl_disconnect(cid)\n",
    "\n",
    "\n",
    "cid = fig.canvas.mpl_connect(\"button_press_event\", oncpaint)\n",
    "plt.show()"
   ]
  },
  {
   "cell_type": "code",
   "execution_count": 6,
   "id": "ec483c46-828e-4763-b753-265ba328a3c1",
   "metadata": {},
   "outputs": [],
   "source": [
    "# 選んだ部分をCSVファイルに書き出す\n",
    "df_list = []\n",
    "for n in range(len(point_list)):\n",
    "    dfn = df_data[point_list[n][0] : point_list[n][1]]\n",
    "\n",
    "    dfn.reset_index(inplace=True)\n",
    "    dfn = dfn.drop([\"index\"], axis=1)\n",
    "    df_list.append(dfn)\n",
    "\n",
    "\n",
    "df_result = pd.concat(df_list, axis=1)\n",
    "\n",
    "# df_resultの保存 まだノーマライズしてないデータを保存する\n",
    "os.makedirs(result_dir, exist_ok=True)\n",
    "# df_result.to_csv(result_dir + \"extracted_decay \" + file_name + \".csv\", index=False)\n",
    "\n",
    "df_result.to_csv(result_dir + file_name + \".csv\", index=False)"
   ]
  },
  {
   "cell_type": "code",
   "execution_count": null,
   "id": "7300c791-adc7-4dc3-aa0f-4a22456bd24d",
   "metadata": {},
   "outputs": [],
   "source": []
  }
 ],
 "metadata": {
  "kernelspec": {
   "display_name": "Python 3",
   "language": "python",
   "name": "python3"
  },
  "language_info": {
   "codemirror_mode": {
    "name": "ipython",
    "version": 3
   },
   "file_extension": ".py",
   "mimetype": "text/x-python",
   "name": "python",
   "nbconvert_exporter": "python",
   "pygments_lexer": "ipython3",
   "version": "3.8.8"
  }
 },
 "nbformat": 4,
 "nbformat_minor": 5
}
