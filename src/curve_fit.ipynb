{
 "cells": [
  {
   "cell_type": "code",
   "execution_count": 67,
   "id": "1537efe5-86f4-416f-b3f1-1057ac81ec4b",
   "metadata": {},
   "outputs": [
    {
     "data": {
      "text/plain": [
       "[<matplotlib.lines.Line2D at 0x7f88d189ad30>]"
      ]
     },
     "execution_count": 67,
     "metadata": {},
     "output_type": "execute_result"
    },
    {
     "data": {
      "image/png": "[encoded data removed]",
      "text/plain": [
       "<Figure size 432x432 with 1 Axes>"
      ]
     },
     "metadata": {
      "needs_background": "light"
     },
     "output_type": "display_data"
    }
   ],
   "source": [
    "# 参考　https://kunassy.com/python-curve_fit/\n",
    "# ファイルを選んで処理\n",
    "\n",
    "%matplotlib widget\n",
    "import matplotlib\n",
    "import matplotlib.pyplot as plt\n",
    "\n",
    "import numpy as np\n",
    "import pandas as pd\n",
    "import os\n",
    "from ipywidgets import Output\n",
    "from scipy.optimize import curve_fit\n",
    "import seaborn as sns\n",
    "%matplotlib inline\n",
    "\n",
    "# TODO Aは定数にしたい\n",
    "\n",
    "def kinetic_model_f1(x, B, C, D):\n",
    "    A = 1\n",
    "    return A*(1-((1-np.exp(D*x))/(1-C*np.exp(D*x)))) + B\n",
    "\n",
    "file_path = \"result/xxxxxx/xxxxx.csv\"\n",
    "file_name = file_path.split(\"/\")[-1].split(\".\")[0]\n",
    "df_result = pd.read_csv(file_path)\n",
    "df_result = df_result.rename(\n",
    "    columns={\"time \" + file_name: \"time\", \"abs \" + file_name: \"abs\"}\n",
    ")\n",
    "result_dir = file_path.split(file_name)[0] + \"fit_result/\"\n",
    "\n",
    "x = df_result['time'] - df_result['time'][0]\n",
    "y = (df_result['abs'] - min(df_result['abs'])) / (max(df_result['abs']) - min(df_result['abs']))\n",
    "\n",
    "data_kinetic_model_f1 = np.array([x, y])\n",
    "\n",
    "param_init_dict = {\n",
    "        \"data_kinetic_model_f1\":[0, 0.6, -0.01]\n",
    "        }\n",
    "# グラフ描画用のサンプルデータ\n",
    "sample_x = np.array(x)\n",
    "\n",
    "\n",
    "def fit(func, x, param_init):\n",
    "    \"\"\"\n",
    "    func:データxに近似したい任意の関数\n",
    "    x:データ\n",
    "    param_init:パラメータの初期値\n",
    "    popｔ:最適化されたパラメータ\n",
    "    pocv:パラメータの共分散\n",
    "    \"\"\"\n",
    "    X = x[0]\n",
    "    Y = x[1]\n",
    "    popt,pocv=curve_fit(func, X, Y, p0=param_init)\n",
    "    perr = np.sqrt(np.diag(pocv)) #対角成分が各パラメータの標準誤差に相当\n",
    "    y=func(sample_x, *popt)\n",
    "    return y, popt, perr\n",
    "\n",
    "\n",
    "fit_result = fit(kinetic_model_f1, data_kinetic_model_f1, param_init_dict[\"data_kinetic_model_f1\"])\n",
    "fig, ax = plt.subplots(1, 1, figsize=(6, 6))\n",
    "ax.scatter(data_kinetic_model_f1[0], data_kinetic_model_f1[1])\n",
    "ax.plot(sample_x, fit_result[0], color=\"red\")\n",
    "\n",
    "\n"
   ]
  },
  {
   "cell_type": "code",
   "execution_count": 68,
   "id": "412933c9-f95e-45c8-8781-60bcf0fdd780",
   "metadata": {},
   "outputs": [
    {
     "data": {
      "text/html": [
       "<div>\n",
       "<style scoped>\n",
       "    .dataframe tbody tr th:only-of-type {\n",
       "        vertical-align: middle;\n",
       "    }\n",
       "\n",
       "    .dataframe tbody tr th {\n",
       "        vertical-align: top;\n",
       "    }\n",
       "\n",
       "    .dataframe thead th {\n",
       "        text-align: right;\n",
       "    }\n",
       "</style>\n",
       "<table border=\"1\" class=\"dataframe\">\n",
       "  <thead>\n",
       "    <tr style=\"text-align: right;\">\n",
       "      <th></th>\n",
       "      <th>30 300 490</th>\n",
       "    </tr>\n",
       "  </thead>\n",
       "  <tbody>\n",
       "    <tr>\n",
       "      <th>opt_B</th>\n",
       "      <td>0.007360</td>\n",
       "    </tr>\n",
       "    <tr>\n",
       "      <th>opt_C</th>\n",
       "      <td>-1.207681</td>\n",
       "    </tr>\n",
       "    <tr>\n",
       "      <th>opt_D</th>\n",
       "      <td>-0.047364</td>\n",
       "    </tr>\n",
       "    <tr>\n",
       "      <th>k_1</th>\n",
       "      <td>0.047364</td>\n",
       "    </tr>\n",
       "    <tr>\n",
       "      <th>k_2</th>\n",
       "      <td>-0.025910</td>\n",
       "    </tr>\n",
       "  </tbody>\n",
       "</table>\n",
       "</div>"
      ],
      "text/plain": [
       "       30 300 490\n",
       "opt_B    0.007360\n",
       "opt_C   -1.207681\n",
       "opt_D   -0.047364\n",
       "k_1      0.047364\n",
       "k_2     -0.025910"
      ]
     },
     "execution_count": 68,
     "metadata": {},
     "output_type": "execute_result"
    }
   ],
   "source": [
    "opt_B = fit_result[1][0]\n",
    "opt_C = fit_result[1][1]\n",
    "opt_D = fit_result[1][2]\n",
    "\n",
    "k_1 = -opt_D\n",
    "k_2 = -(opt_C * opt_D)/(1 - opt_C)\n",
    "\n",
    "column_name = file_name\n",
    "\n",
    "# 測定条件の入力を詳細に行いたい場合\n",
    "# temp = 30\n",
    "# wavelength = 490\n",
    "# filter_combination_list = [\"001\", \"010\", \"011\", \"100\", \"101\", \"110\"]\n",
    "# period_3 = 25\n",
    "# filter_combination = filter_combination_list[1]\n",
    "\n",
    "# if 'period_3' in locals():\n",
    "#     column_name = str(temp) + \" \" + str(period_3) + \" \" + str(wavelength) + \" \" + filter_combination\n",
    "# else:\n",
    "#     column_name = str(temp) + \" \" + str(wavelength) + \" \" + filter_combination\n",
    "    \n",
    "opt_columns = [\"opt_B\", \"opt_C\", \"opt_D\", \"k_1\", \"k_2\"]\n",
    "opt_params = np.array([opt_B, opt_C, opt_D, k_1, k_2])\n",
    "\n",
    "df_opt_params = pd.DataFrame(opt_params, index=opt_columns, columns=[column_name])\n",
    "\n",
    "df_opt_params"
   ]
  },
  {
   "cell_type": "code",
   "execution_count": 69,
   "id": "fb424baa-5648-4056-b9fb-27cd4a992f11",
   "metadata": {},
   "outputs": [],
   "source": [
    "# fit_resultフォルダに保存し、最後に結合したCSVを出力\n",
    "os.makedirs(result_dir, exist_ok=True)\n",
    "df_opt_params.to_csv(result_dir + column_name + \".csv\", index=True)"
   ]
  },
  {
   "cell_type": "markdown",
   "id": "4e1062ee-4629-4dcb-bad5-97081d6acc1c",
   "metadata": {},
   "source": [
    "# ファイルの結合"
   ]
  },
  {
   "cell_type": "code",
   "execution_count": 71,
   "id": "a5044356-e8ad-4fd7-9360-09f5608ca929",
   "metadata": {},
   "outputs": [],
   "source": [
    "# fit_resultフォルダに保存されたcsvファイルの結合、保存\n",
    "import glob\n",
    "import codecs\n",
    "\n",
    "df_opt_params_all = pd.DataFrame()\n",
    "data_dir = result_dir + \"*.csv\"\n",
    "# 手動\n",
    "# data_dir = \"\"\n",
    "paths = [p for p in glob.glob(data_dir)]\n",
    "\n",
    "for path in paths:\n",
    "    with codecs.open(path, \"r\", \"UTF-8\", \"ignore\") as file:\n",
    "        df = pd.read_csv(file)\n",
    "        df = df.rename(\n",
    "            columns={df.columns[0]: \"params\"}\n",
    "        )\n",
    "        df = df.set_index(\"params\")\n",
    "        df_opt_params_all = pd.concat([df_opt_params_all, df], axis=1)\n",
    "\n",
    "        \n",
    "os.makedirs(result_dir + \"concat\", exist_ok=True)\n",
    "# 保存\n",
    "df_opt_params_all.to_csv(result_dir + \"concat/df_opt_params_all.csv\", index=True)"
   ]
  },
  {
   "cell_type": "code",
   "execution_count": null,
   "id": "41a7668e-b1fa-4175-ae3c-9ffc9a359ef6",
   "metadata": {},
   "outputs": [],
   "source": [
    "# TODO　カラムのソート"
   ]
  },
  {
   "cell_type": "code",
   "execution_count": 72,
   "id": "1dc7525b-52ea-4806-892b-c73bf49b57ea",
   "metadata": {},
   "outputs": [
    {
     "data": {
      "text/plain": [
       "(array([1.00736024, 1.0052143 , 1.00306729, ..., 0.00738629, 0.00738617,\n",
       "        0.00738605]),\n",
       " array([ 0.00736024, -1.20768052, -0.04736405]),\n",
       " array([8.96066882e-05, 5.48220886e-03, 6.06920154e-05]))"
      ]
     },
     "execution_count": 72,
     "metadata": {},
     "output_type": "execute_result"
    }
   ],
   "source": [
    "fit_result"
   ]
  },
  {
   "cell_type": "code",
   "execution_count": null,
   "id": "dd8942e7-38e6-4e9b-89dd-16afd5e9124f",
   "metadata": {},
   "outputs": [],
   "source": []
  }
 ],
 "metadata": {
  "kernelspec": {
   "display_name": "Python 3",
   "language": "python",
   "name": "python3"
  },
  "language_info": {
   "codemirror_mode": {
    "name": "ipython",
    "version": 3
   },
   "file_extension": ".py",
   "mimetype": "text/x-python",
   "name": "python",
   "nbconvert_exporter": "python",
   "pygments_lexer": "ipython3",
   "version": "3.8.8"
  }
 },
 "nbformat": 4,
 "nbformat_minor": 5
}
