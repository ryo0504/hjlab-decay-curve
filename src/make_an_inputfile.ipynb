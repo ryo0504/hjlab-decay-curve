{
 "cells": [
  {
   "cell_type": "code",
   "execution_count": 7,
   "id": "223e3a86-104d-4ebe-832d-686582f1ac91",
   "metadata": {},
   "outputs": [],
   "source": [
    "import codecs\n",
    "import glob\n",
    "import math\n",
    "import os\n",
    "from decimal import Decimal\n",
    "import pandas as pd"
   ]
  },
  {
   "cell_type": "code",
   "execution_count": 8,
   "id": "07de08fd-73f2-4234-96f6-751f331f8412",
   "metadata": {},
   "outputs": [],
   "source": [
    "data_dir = \"時系列/2022xxxxx/*.時系列\"\n",
    "result_dir = \"時系列/csv/\" + \"/\".join(data_dir.split(\"時系列\")[1].split(\"/\")[1:-1]) + \"/\"\n",
    "\n",
    "round_number = lambda x: round(x, 3)\n",
    "paths = [p for p in glob.glob(data_dir)]\n",
    "result = []\n",
    "# ファイル名を格納するリスト\n",
    "file_names = []\n",
    "wavelength_list = []\n",
    "temp_range = []\n",
    "df_result = []\n",
    "num_row_list = []"
   ]
  },
  {
   "cell_type": "code",
   "execution_count": 9,
   "id": "61711b2e-d7a4-40a3-b419-50583b3bffc6",
   "metadata": {},
   "outputs": [
    {
     "name": "stderr",
     "output_type": "stream",
     "text": [
      "/opt/anaconda3/lib/python3.8/site-packages/pandas/core/indexing.py:1637: SettingWithCopyWarning: \n",
      "A value is trying to be set on a copy of a slice from a DataFrame\n",
      "\n",
      "See the caveats in the documentation: https://pandas.pydata.org/pandas-docs/stable/user_guide/indexing.html#returning-a-view-versus-a-copy\n",
      "  self._setitem_single_block(indexer, value, name)\n"
     ]
    }
   ],
   "source": [
    "for path in paths:\n",
    "    # ファイル名  ex: -60 445.時系列\n",
    "    file_name = path.split(\"/\")[-1].split(\".\")[0]\n",
    "    file_names.append(file_name)\n",
    "    # ファイル名の整形　ex: -60 445\n",
    "    file_name2 = file_name.split(\".\")[0]\n",
    "    # ファイル名の整形　ex: ['-60', '445']\n",
    "    file_name3 = file_name2.split(\" \")\n",
    "\n",
    "    with codecs.open(path, \"r\", \"UTF-8\", \"ignore\") as file:\n",
    "        col_names = [\"c{0:02d}\".format(i) for i in range(5)]\n",
    "        df = pd.read_table(file, names=col_names)\n",
    "        # 測定した波長を抜き出す\n",
    "        single_g_at = df.iloc[1][0]\n",
    "        original_wavelength = single_g_at.replace(\"Trend type: Single g at \", \"\")\n",
    "        int_wavelength = float(original_wavelength)\n",
    "        wavelength = str(math.floor(int_wavelength))\n",
    "\n",
    "        # TODO ファイル名が特殊な場合はこっち\n",
    "        new_file_name = file_name\n",
    "        # file_name = file_name.split(\".時系列\")[0]\n",
    "        # new_file_name = new_file_name.split(\".時系列\")[0]\n",
    "\n",
    "        # ファイル内容の整形、不要な行の削除、数値型への変換\n",
    "        df = df.drop(\"c00\", axis=1)\n",
    "        df = df.rename(\n",
    "            columns={\"c01\": \"time \" + new_file_name, \"c02\": \"abs \" + new_file_name}\n",
    "        )\n",
    "        # 0~4行目までの削除\n",
    "        df = df.drop(range(0, 5))\n",
    "        # 仮のカラムの不要部分削除\n",
    "        df = df.rename(columns={\"c03\": \"old_name\", \"c04\": \"new_name\"})\n",
    "        df[\"old_name\"].iloc[0] = file_name\n",
    "        df[\"new_name\"].iloc[0] = new_file_name\n",
    "        # 元データはstr型のためintに変換する必要がある\n",
    "        alter_int = lambda x: float(x)\n",
    "        # df['abs '+new_file_name] = df['abs '+new_file_name].map(alter_int)\n",
    "        df[df.columns[1]] = df[df.columns[1]].map(alter_int)\n",
    "        # time列の指数表示を解除\n",
    "        decimal_time = lambda x: Decimal(x)\n",
    "        df[\"time \" + new_file_name] = df[\"time \" + new_file_name].map(decimal_time)\n",
    "        # int型に変換\n",
    "        df[\"time \" + new_file_name] = df[\"time \" + new_file_name].map(alter_int)\n",
    "        # df.to_csv(result_dir+new_file_name, index=False)\n",
    "\n",
    "        # ファイル名の変更\n",
    "        # file_nameが元のファイル名、new_file_nameが新しいファイル名\n",
    "        os.makedirs(result_dir, exist_ok=True)\n",
    "        df.to_csv(result_dir + new_file_name + \".csv\", index=False)"
   ]
  },
  {
   "cell_type": "code",
   "execution_count": null,
   "id": "25aa7c4a-60ce-4943-abb2-c97ec5600567",
   "metadata": {},
   "outputs": [],
   "source": []
  },
  {
   "cell_type": "code",
   "execution_count": 5,
   "id": "a2827ae6-33ba-4000-a533-f0b61b0afb65",
   "metadata": {},
   "outputs": [],
   "source": []
  },
  {
   "cell_type": "code",
   "execution_count": null,
   "id": "a24f7d77-0dc4-4b2f-b3a3-f4c5e780fa24",
   "metadata": {},
   "outputs": [],
   "source": []
  },
  {
   "cell_type": "code",
   "execution_count": null,
   "id": "7d9848c5-c109-4e30-b43c-b882f14c5ba4",
   "metadata": {},
   "outputs": [],
   "source": []
  }
 ],
 "metadata": {
  "kernelspec": {
   "display_name": "Python 3",
   "language": "python",
   "name": "python3"
  },
  "language_info": {
   "codemirror_mode": {
    "name": "ipython",
    "version": 3
   },
   "file_extension": ".py",
   "mimetype": "text/x-python",
   "name": "python",
   "nbconvert_exporter": "python",
   "pygments_lexer": "ipython3",
   "version": "3.8.8"
  }
 },
 "nbformat": 4,
 "nbformat_minor": 5
}
