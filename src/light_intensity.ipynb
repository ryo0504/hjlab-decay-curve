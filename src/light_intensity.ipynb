{
 "cells": [
  {
   "cell_type": "code",
   "execution_count": 22,
   "id": "e8be7e35-062c-40f2-860b-babe34207c25",
   "metadata": {},
   "outputs": [
    {
     "name": "stderr",
     "output_type": "stream",
     "text": [
      "<ipython-input-22-101ad3644cf1>:47: UserWarning: Boolean Series key will be reindexed to match DataFrame index.\n",
      "  df_target = df_target[df[\"wavenumber\"] > x_2]\n",
      "<ipython-input-22-101ad3644cf1>:47: UserWarning: Boolean Series key will be reindexed to match DataFrame index.\n",
      "  df_target = df_target[df[\"wavenumber\"] > x_2]\n",
      "<ipython-input-22-101ad3644cf1>:47: UserWarning: Boolean Series key will be reindexed to match DataFrame index.\n",
      "  df_target = df_target[df[\"wavenumber\"] > x_2]\n",
      "<ipython-input-22-101ad3644cf1>:47: UserWarning: Boolean Series key will be reindexed to match DataFrame index.\n",
      "  df_target = df_target[df[\"wavenumber\"] > x_2]\n",
      "<ipython-input-22-101ad3644cf1>:47: UserWarning: Boolean Series key will be reindexed to match DataFrame index.\n",
      "  df_target = df_target[df[\"wavenumber\"] > x_2]\n",
      "<ipython-input-22-101ad3644cf1>:47: UserWarning: Boolean Series key will be reindexed to match DataFrame index.\n",
      "  df_target = df_target[df[\"wavenumber\"] > x_2]\n"
     ]
    }
   ],
   "source": [
    "import matplotlib\n",
    "import matplotlib.pyplot as plt\n",
    "import numpy as np\n",
    "import pandas as pd\n",
    "import os\n",
    "import glob\n",
    "import codecs\n",
    "import seaborn as sns\n",
    "from mpl_toolkits.axisartist.axislines import SubplotZero\n",
    "from scipy.optimize import curve_fit\n",
    "from scipy import integrate\n",
    "from matplotlib.ticker import ScalarFormatter\n",
    "from matplotlib import ticker\n",
    "%matplotlib inline\n",
    "\n",
    "data_dir = \"data/xxx/xxx/vis/*.txt\"\n",
    "\n",
    "# temperature = 30\n",
    "temperature = int(data_dir.split('/vis')[0].split(\"/\")[-1])\n",
    "\n",
    "result_dir = \"result/\" + \"/\".join(data_dir.split(\"時系列\")[1].split(\"/\")[1:-1]) + \"/\"\n",
    "result_file_name = \"_\".join(data_dir.split(\"時系列\")[1].split(\"/\")[1:-1])\n",
    "paths = [p for p in glob.glob(data_dir)]\n",
    "# 積分範囲の定義\n",
    "integral_region = [400, 550]\n",
    "x_1 = 1/(integral_region[0]*(10**(-7)))\n",
    "x_2 = 1/(integral_region[1]*(10**(-7)))\n",
    "result_dict = {}\n",
    "\n",
    "apply_abs = lambda x: abs(x)\n",
    "apply_str = lambda x: str(x)\n",
    "\n",
    "for path in paths:\n",
    "    # ファイル名  ex: -60 445.時系列\n",
    "    file_name = path.split(\"/\")[-1].split(\".\")[0]\n",
    "    with codecs.open(path, \"r\", \"UTF-8\", \"ignore\") as file:\n",
    "        col_names = [\"c{0:02d}\".format(i) for i in range(5)]\n",
    "        df = pd.read_table(file, names=col_names)\n",
    "        df = df.rename(\n",
    "            columns={\"c00\": \"wavelength\", \"c01\": \"photon count\"}\n",
    "        )\n",
    "        df = df.drop([\"c02\", \"c03\", \"c04\"], axis=1)\n",
    "#         波数のカラムを作る\n",
    "        df[\"wavenumber\"] = 1/((df[\"wavelength\"])*(10**(-7)))\n",
    "#         積分範囲の部分を取り出す\n",
    "        df_target = df[df[\"wavenumber\"] < x_1]\n",
    "        df_target = df_target[df[\"wavenumber\"] > x_2]\n",
    "        x = df_target[\"wavenumber\"]\n",
    "        y = df_target[\"photon count\"]\n",
    "        integral_result = integrate.trapz(y, x)\n",
    "        result_dict.update({file_name : integral_result})\n",
    "\n",
    "        \n",
    "result_df = pd.DataFrame.from_dict(result_dict, orient=\"index\")\n",
    "result_df = result_df.rename(\n",
    "            columns={0: \"light intensity\"}\n",
    "        )\n",
    "result_df['light intensity'] = result_df['light intensity'].map(apply_abs)\n",
    "result_df.sort_values(\"light intensity\", ascending=False)\n",
    "\n",
    "os.makedirs(result_dir, exist_ok=True)\n",
    "result_df.to_csv(result_dir + result_file_name + \".csv\", index=True)"
   ]
  },
  {
   "cell_type": "code",
   "execution_count": 23,
   "id": "bd9c8e45-0616-4cb0-ae6c-ddd49865ee42",
   "metadata": {},
   "outputs": [
    {
     "name": "stdout",
     "output_type": "stream",
     "text": [
      "  Unnamed: 0     opt_B     opt_C     opt_D       k_1       k_2  sorted_order\n",
      "0    001 490  0.008212 -0.825940 -0.038751  0.038751 -0.017529             0\n",
      "1    010 490  0.012490 -0.793868 -0.033604  0.033604 -0.014871             1\n",
      "2    011 490  0.025160 -0.688437 -0.012843  0.012843 -0.005237             2\n",
      "3    100 490  0.023662 -0.244158 -0.006930  0.006930 -0.001360             3\n",
      "4    101 490 -0.069383 -0.256345 -0.002437  0.002437 -0.000497             4\n",
      "5    110 490 -0.019652  0.382767 -0.001286  0.001286  0.000797             5      light intensity\n",
      "001     1.603674e+08\n",
      "010     1.083336e+08\n",
      "011     4.891173e+07\n",
      "100     2.554642e+07\n",
      "101     1.193000e+07\n",
      "110     8.268055e+06\n"
     ]
    }
   ],
   "source": [
    "# concat/のデータを用いてkp1, kp2, kt1, kt2を算出する\n",
    "fit_data_dir = \"result\" + data_dir.split(\"vis\")[0].split('時系列')[1] + \"fit_result/concat/\"\n",
    "fit_data = \"result\" + data_dir.split(\"vis\")[0].split('時系列')[1] + \"fit_result/concat/result_df.csv\"\n",
    "\n",
    "# 可視光強度のラベルが同じ順番か確認\n",
    "df_fit_data = pd.read_csv(fit_data)\n",
    "print(df_fit_data, result_df)"
   ]
  },
  {
   "cell_type": "code",
   "execution_count": 24,
   "id": "e120befd-adca-4bc9-bbdf-d13589578920",
   "metadata": {},
   "outputs": [
    {
     "name": "stdout",
     "output_type": "stream",
     "text": [
      "[ 0.00012645  0.00122009  0.02629693 -0.01144436]\n"
     ]
    },
    {
     "data": {
      "image/png": "[encoded data removed]",
      "text/plain": [
       "<Figure size 504x432 with 1 Axes>"
      ]
     },
     "metadata": {
      "needs_background": "light"
     },
     "output_type": "display_data"
    }
   ],
   "source": [
    "# グラフ表示\n",
    "x_min = 0\n",
    "x_max = 17.5\n",
    "x_ticks = [0, 5*(10**7), 10*(10**7), 15*(10**7)]\n",
    "\n",
    "df_fit_data[\"light intensity\"] = result_df[\"light intensity\"].values\n",
    "\n",
    "# ラベルに10^7を表示するのでx軸を10^7で割る\n",
    "x = df_fit_data[\"light intensity\"]\n",
    "y_1 = df_fit_data[\"k_1\"]\n",
    "y_2 = df_fit_data[\"k_2\"]\n",
    "\n",
    "plt.rcParams[\"font.family\"] = \"sans-serif\"\n",
    "plt.rcParams[\"font.size\"] = 20\n",
    "\n",
    "#軸主目盛り線の長さ\n",
    "plt.rcParams[\"xtick.major.size\"] = 7\n",
    "plt.rcParams[\"ytick.major.size\"] = 7\n",
    "#x軸補助目盛り線の長さ\n",
    "plt.rcParams[\"xtick.minor.size\"] = 4\n",
    "\n",
    "plt.rcParams[\"legend.frameon\"] = False\n",
    "\n",
    "fig, ax = plt.subplots(1, 1, figsize=(7, 6))\n",
    "ax.set_xlabel('Light intensity (count $\\mathrm{cm^{-1}}$)')\n",
    "# ax.set_xlabel('Light intensity ($10^{7}$ count $\\mathrm{cm^{-1}}$)')\n",
    "ax.set_ylabel('Kinetic parameters ($\\mathrm{s^{-1}}$)')\n",
    "\n",
    "# 軸の最大値、最小値、表示メモリ設定\n",
    "ax.set_xlim(x_min, x_max)\n",
    "ax.set_xticks(x_ticks)\n",
    "\n",
    "# x軸ラベルの下に空間を生成\n",
    "# ax.get_xaxis().set_tick_params(pad=8)\n",
    "\n",
    "# 目盛りを外に出す\n",
    "ax.tick_params(direction='out')\n",
    "\n",
    "# 2.5間隔で補助メモリ\n",
    "ax.xaxis.set_minor_locator(ticker.MultipleLocator(25000000))\n",
    "\n",
    "# ×10表記\n",
    "ax.xaxis.set_major_formatter(ScalarFormatter(useMathText=True))\n",
    "ax.get_xaxis().get_offset_text().set_position((1.1,0))\n",
    "\n",
    "# 枠線の消去\n",
    "ax.spines['right'].set_visible(False)\n",
    "ax.spines['top'].set_visible(False)\n",
    "\n",
    "fig.subplots_adjust(left=0.2)\n",
    "ax.plot(x, y_1, \"o\", color=\"red\", lw='1', label=\"$k_1$\")\n",
    "ax.plot(x, y_2, \"o\", color=\"blue\", lw='1', label=\"$k_2$\")\n",
    "\n",
    "def func(x, a, b):\n",
    "    f = a*x + b\n",
    "    return f\n",
    "\n",
    "# k1のフィット\n",
    "popt_1, pcov_1 = curve_fit(func,x,y_1)\n",
    "\n",
    "residuals_1 =  y_1 - func(x, popt_1[0],popt_1[1])\n",
    "rss_1 = np.sum(residuals_1**2)#residual sum of squares = rss\n",
    "tss_1 = np.sum((y_1-np.mean(y_1))**2)#total sum of squares = tss\n",
    "r_squared_1 = 1 - (rss_1 / tss_1)\n",
    "ax.plot(x,func(x, popt_1[0],popt_1[1]),'--', color=\"red\")\n",
    "\n",
    "ax.annotate(\"$R^2$=\"+str(np.round(r_squared_1,3)), xy=(0.6, 0.5), xycoords='axes fraction', color='red')\n",
    "\n",
    "# kt1, kp1の算出　光強度10^8のとき\n",
    "k_t1 = popt_1[1]\n",
    "k_p1 = func(10**8, popt_1[0],popt_1[1])\n",
    "\n",
    "# k2のフィット\n",
    "popt_2, pcov_2 = curve_fit(func,x,y_2)\n",
    "\n",
    "residuals_2 =  y_2 - func(x, popt_2[0],popt_2[1])\n",
    "rss_2 = np.sum(residuals_2**2)#residual sum of squares = rss\n",
    "tss_2 = np.sum((y_2-np.mean(y_2))**2)#total sum of squares = tss\n",
    "r_squared_2 = 1 - (rss_2 / tss_2)\n",
    "ax.plot(x,func(x, popt_2[0],popt_2[1]),'--', color=\"blue\")\n",
    "ax.annotate(\"$R^2$=\"+str(np.round(r_squared_2,3)), xy=(0.6, 0.4), xycoords='axes fraction', color='blue')\n",
    "\n",
    "# kt2, kp2の算出　光強度10^8のとき\n",
    "k_t2 = popt_2[1]\n",
    "k_p2 = func(10**8, popt_2[0], popt_2[1])\n",
    "\n",
    "# 凡例表示\n",
    "ax.legend(handletextpad=0.1)\n",
    "\n",
    "parameters_list = np.array([k_t1, k_t2, k_p1, k_p2])\n",
    "print(parameters_list)"
   ]
  },
  {
   "cell_type": "code",
   "execution_count": 25,
   "id": "f076591f-0f6d-4560-ac68-72488888eb94",
   "metadata": {},
   "outputs": [
    {
     "name": "stdout",
     "output_type": "stream",
     "text": [
      "[ 0.00012645  0.00122009  0.02629693 -0.01144436]\n"
     ]
    }
   ],
   "source": [
    "# temp/kinetic_parametersにkt, kpを保存\n",
    "df_parameters = pd.DataFrame(parameters_list.reshape(1,-1), index=[temperature], columns=[\"k_t1\", \"k_t2\", \"k_p1\", \"k_p2\"])\n",
    "df_parameters_dir = result_dir.split('vis')[0] + 'kinetic_parameters/'\n",
    "os.makedirs(df_parameters_dir, exist_ok=True)\n",
    "df_parameters.to_csv(df_parameters_dir + str(temperature) + \"_parameters.csv\", index=True)\n",
    "fig.savefig(df_parameters_dir + str(temperature) + \"_parameters.png\")\n",
    "\n",
    "print(parameters_list)"
   ]
  },
  {
   "cell_type": "markdown",
   "id": "b4374bd6-e1cf-4545-a553-7ce178b82d24",
   "metadata": {},
   "source": [
    "# 110を消したいとき用"
   ]
  },
  {
   "cell_type": "code",
   "execution_count": 9,
   "id": "ab003e53-9436-48d6-a2c9-0e138e92dd89",
   "metadata": {},
   "outputs": [
    {
     "data": {
      "text/plain": [
       "Text(0.5, 0.5, '$k_2: R^2$=0.92')"
      ]
     },
     "execution_count": 9,
     "metadata": {},
     "output_type": "execute_result"
    },
    {
     "data": {
      "image/png": "[encoded data removed]",
      "text/plain": [
       "<Figure size 504x432 with 1 Axes>"
      ]
     },
     "metadata": {
      "needs_background": "light"
     },
     "output_type": "display_data"
    }
   ],
   "source": [
    "# 110を消したいとき\n",
    "\n",
    "# グラフ表示\n",
    "x_min = 0\n",
    "x_max = 17.5\n",
    "x_ticks = [0, 5, 10, 15]\n",
    "\n",
    "df_fit_data[\"light intensity\"] = result_df[\"light intensity\"].values\n",
    "df_fit_data = df_fit_data.drop(5, axis=0)\n",
    "\n",
    "# ラベルに10^7を表示するのでx軸を10^7で割る\n",
    "x = df_fit_data[\"light intensity\"] / (10**7)\n",
    "y_1 = df_fit_data[\"k_1\"]\n",
    "y_2 = df_fit_data[\"k_2\"]\n",
    "\n",
    "plt.rcParams[\"font.family\"] = \"sans-serif\"\n",
    "plt.rcParams[\"font.size\"] = 20\n",
    "\n",
    "#軸主目盛り線の長さ\n",
    "plt.rcParams[\"xtick.major.size\"] = 7\n",
    "plt.rcParams[\"ytick.major.size\"] = 7\n",
    "#x軸補助目盛り線の長さ\n",
    "plt.rcParams[\"xtick.minor.size\"] = 4\n",
    "\n",
    "plt.rcParams[\"legend.frameon\"] = False\n",
    "\n",
    "fig, ax = plt.subplots(1, 1, figsize=(7, 6))\n",
    "ax.set_xlabel('Light intensity ($10^{7}$ count $\\mathrm{cm^{-1}}$)')\n",
    "ax.set_ylabel('Kinetic parameters ($\\mathrm{s^{-1}}$)')\n",
    "\n",
    "# 軸の最大値、最小値、表示メモリ設定\n",
    "ax.set_xlim(x_min, x_max)\n",
    "ax.set_xticks(x_ticks)\n",
    "\n",
    "# x軸ラベルの下に空間を生成\n",
    "ax.get_xaxis().set_tick_params(pad=8)\n",
    "\n",
    "# 目盛りを外に出す\n",
    "ax.tick_params(direction='out')\n",
    "\n",
    "# 2.5間隔で補助メモリ\n",
    "ax.xaxis.set_minor_locator(ticker.MultipleLocator(2.5))\n",
    "\n",
    "# 枠線の消去\n",
    "ax.spines['right'].set_visible(False)\n",
    "ax.spines['top'].set_visible(False)\n",
    "\n",
    "fig.subplots_adjust(left=0.2)\n",
    "ax.plot(x, y_1, \"o\", color=\"red\", lw='1', label=\"$k_1$\")\n",
    "ax.plot(x, y_2, \"o\", color=\"blue\", lw='1', label=\"$k_2$\")\n",
    "\n",
    "def func(x, a, b):\n",
    "    f = a*x + b\n",
    "    return f\n",
    "\n",
    "# k1のフィット\n",
    "popt_1, pcov_1 = curve_fit(func,x,y_1)\n",
    "\n",
    "residuals_1 =  y_1 - func(x, popt_1[0],popt_1[1])\n",
    "rss_1 = np.sum(residuals_1**2)#residual sum of squares = rss\n",
    "tss_1 = np.sum((y_1-np.mean(y_1))**2)#total sum of squares = tss\n",
    "r_squared_1 = 1 - (rss_1 / tss_1)\n",
    "ax.plot(x,func(x, popt_1[0],popt_1[1]),'--', color=\"red\")\n",
    "\n",
    "ax.annotate(\"$R^2$=\"+str(np.round(r_squared_1,3)), xy=(0.6, 0.5), xycoords='axes fraction', color='red')\n",
    "\n",
    "# kt1, kp1の算出　光強度10^8のとき\n",
    "k_t1 = popt_1[1]\n",
    "k_p1 = func(10**8, popt_1[0],popt_1[1])\n",
    "\n",
    "# k2のフィット\n",
    "popt_2, pcov_2 = curve_fit(func,x,y_2)\n",
    "\n",
    "residuals_2 =  y_2 - func(x, popt_2[0],popt_2[1])\n",
    "rss_2 = np.sum(residuals_2**2)#residual sum of squares = rss\n",
    "tss_2 = np.sum((y_2-np.mean(y_2))**2)#total sum of squares = tss\n",
    "r_squared_2 = 1 - (rss_2 / tss_2)\n",
    "ax.plot(x,func(x, popt_2[0],popt_2[1]),'--', color=\"blue\")\n",
    "ax.annotate(\"$R^2$=\"+str(np.round(r_squared_2,3)), xy=(0.6, 0.4), xycoords='axes fraction', color='blue')\n",
    "\n",
    "# kt2, kp2の算出　光強度10^8のとき\n",
    "k_t2 = popt_2[1]\n",
    "k_p2 = func(10**8, popt_1[0],popt_2[1])\n",
    "\n",
    "# 凡例表示\n",
    "ax.legend(handletextpad=0.1)\n",
    "\n",
    "parameters_list = np.array([k_t1, k_t2, k_p1, k_p2])"
   ]
  },
  {
   "cell_type": "code",
   "execution_count": null,
   "id": "5675b09e-d39b-4e8d-99e6-427ed4aa7115",
   "metadata": {},
   "outputs": [],
   "source": [
    "# 積分範囲のグラフ\n",
    "plt.rcParams[\"font.family\"] = \"sans-serif\"\n",
    "plt.rcParams[\"font.size\"] = 20\n",
    "fig, ax = plt.subplots(1, 1, figsize=(7, 6))\n",
    "ax.set_xlabel('Wavenumber (cm-1)')\n",
    "ax.set_ylabel('Photon count')\n",
    "fig.subplots_adjust(left=0.2)\n",
    "ax.plot(df[\"wavenumber\"], df[\"photon count\"], color=\"red\", lw='1')\n",
    "\n",
    "ax.axvspan(x_1, x_2)"
   ]
  },
  {
   "cell_type": "code",
   "execution_count": null,
   "id": "c3ae63ec-9407-487e-a2a7-e89d11616bc9",
   "metadata": {},
   "outputs": [],
   "source": []
  }
 ],
 "metadata": {
  "kernelspec": {
   "display_name": "Python 3",
   "language": "python",
   "name": "python3"
  },
  "language_info": {
   "codemirror_mode": {
    "name": "ipython",
    "version": 3
   },
   "file_extension": ".py",
   "mimetype": "text/x-python",
   "name": "python",
   "nbconvert_exporter": "python",
   "pygments_lexer": "ipython3",
   "version": "3.8.8"
  }
 },
 "nbformat": 4,
 "nbformat_minor": 5
}
