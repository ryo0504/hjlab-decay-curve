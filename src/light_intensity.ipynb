{
 "cells": [
  {
   "cell_type": "code",
   "execution_count": 1,
   "id": "0fb7b9b7-6e98-469c-b841-38a7c6b89d75",
   "metadata": {},
   "outputs": [],
   "source": [
    "import matplotlib\n",
    "import matplotlib.pyplot as plt\n",
    "import numpy as np\n",
    "import pandas as pd\n",
    "import os\n",
    "import glob\n",
    "import codecs\n",
    "import seaborn as sns\n",
    "from mpl_toolkits.axisartist.axislines import SubplotZero\n",
    "from scipy import integrate\n",
    "%matplotlib inline"
   ]
  },
  {
   "cell_type": "code",
   "execution_count": 2,
   "id": "51f13f34-f1bc-4fae-9e72-eae7ca5f128a",
   "metadata": {},
   "outputs": [],
   "source": [
    "data_dir = \"時系列/20220921 5HB/30/vis/*.txt\"\n",
    "result_dir = \"result/\" + \"/\".join(data_dir.split(\"時系列\")[1].split(\"/\")[1:-1]) + \"/\"\n",
    "result_file_name = \"_\".join(data_dir.split(\"時系列\")[1].split(\"/\")[1:-1])\n",
    "paths = [p for p in glob.glob(data_dir)]\n",
    "# 積分範囲の定義\n",
    "integral_region = [400, 550]\n",
    "x_1 = 1/(integral_region[0]*(10**(-7)))\n",
    "x_2 = 1/(integral_region[1]*(10**(-7)))\n",
    "result_dict = {}\n",
    "\n",
    "apply_abs = lambda x: abs(x)"
   ]
  },
  {
   "cell_type": "code",
   "execution_count": 11,
   "id": "846e08d5-d7b1-4622-99d6-ec42b53f1275",
   "metadata": {},
   "outputs": [
    {
     "name": "stderr",
     "output_type": "stream",
     "text": [
      "<ipython-input-11-e441181466fb>:15: UserWarning: Boolean Series key will be reindexed to match DataFrame index.\n",
      "  df_target = df_target[df[\"wavenumber\"] > x_2]\n",
      "<ipython-input-11-e441181466fb>:15: UserWarning: Boolean Series key will be reindexed to match DataFrame index.\n",
      "  df_target = df_target[df[\"wavenumber\"] > x_2]\n",
      "<ipython-input-11-e441181466fb>:15: UserWarning: Boolean Series key will be reindexed to match DataFrame index.\n",
      "  df_target = df_target[df[\"wavenumber\"] > x_2]\n",
      "<ipython-input-11-e441181466fb>:15: UserWarning: Boolean Series key will be reindexed to match DataFrame index.\n",
      "  df_target = df_target[df[\"wavenumber\"] > x_2]\n",
      "<ipython-input-11-e441181466fb>:15: UserWarning: Boolean Series key will be reindexed to match DataFrame index.\n",
      "  df_target = df_target[df[\"wavenumber\"] > x_2]\n",
      "<ipython-input-11-e441181466fb>:15: UserWarning: Boolean Series key will be reindexed to match DataFrame index.\n",
      "  df_target = df_target[df[\"wavenumber\"] > x_2]\n"
     ]
    }
   ],
   "source": [
    "for path in paths:\n",
    "    # ファイル名  ex: -60 445.時系列\n",
    "    file_name = path.split(\"/\")[-1].split(\".\")[0]\n",
    "    with codecs.open(path, \"r\", \"UTF-8\", \"ignore\") as file:\n",
    "        col_names = [\"c{0:02d}\".format(i) for i in range(5)]\n",
    "        df = pd.read_table(file, names=col_names)\n",
    "        df = df.rename(\n",
    "            columns={\"c00\": \"wavelength\", \"c01\": \"photon count\"}\n",
    "        )\n",
    "        df = df.drop([\"c02\", \"c03\", \"c04\"], axis=1)\n",
    "#         波数のカラムを作る\n",
    "        df[\"wavenumber\"] = 1/((df[\"wavelength\"])*(10**(-7)))\n",
    "#         積分範囲の部分を取り出す\n",
    "        df_target = df[df[\"wavenumber\"] < x_1]\n",
    "        df_target = df_target[df[\"wavenumber\"] > x_2]\n",
    "        x = df_target[\"wavenumber\"]\n",
    "        y = df_target[\"photon count\"]\n",
    "        integral_result = integrate.trapz(y, x)\n",
    "        result_dict.update({file_name : integral_result})\n",
    "\n",
    "        \n",
    "result_df = pd.DataFrame.from_dict(result_dict, orient=\"index\")\n",
    "result_df = result_df.rename(\n",
    "            columns={0: \"light intensity\"}\n",
    "        )\n",
    "result_df['light intensity'] = result_df['light intensity'].map(apply_abs)\n",
    "result_df.sort_values(\"light intensity\", ascending=False)\n",
    "\n",
    "os.makedirs(result_dir, exist_ok=True)\n",
    "result_df.to_csv(result_dir + result_file_name + \".csv\", index=True)"
   ]
  },
  {
   "cell_type": "code",
   "execution_count": 4,
   "id": "3fc63883-728e-4187-963e-8e36f6089580",
   "metadata": {},
   "outputs": [
    {
     "data": {
      "text/plain": [
       "<matplotlib.patches.Polygon at 0x7f34f3f08880>"
      ]
     },
     "execution_count": 4,
     "metadata": {},
     "output_type": "execute_result"
    },
    {
     "data": {
      "image/png": "[encoded data removed]",
      "text/plain": [
       "<Figure size 504x432 with 1 Axes>"
      ]
     },
     "metadata": {
      "needs_background": "light"
     },
     "output_type": "display_data"
    }
   ],
   "source": [
    "# 積分範囲のグラフ\n",
    "plt.rcParams[\"font.family\"] = \"sans-serif\"\n",
    "plt.rcParams[\"font.size\"] = 20\n",
    "fig, ax = plt.subplots(1, 1, figsize=(7, 6))\n",
    "ax.set_xlabel('Wavenumber (cm-1)')\n",
    "ax.set_ylabel('Photon count')\n",
    "fig.subplots_adjust(left=0.2)\n",
    "ax.plot(df[\"wavenumber\"], df[\"photon count\"], color=\"red\", lw='1')\n",
    "\n",
    "ax.axvspan(x_1, x_2)"
   ]
  },
  {
   "cell_type": "code",
   "execution_count": 13,
   "id": "bd9c8e45-0616-4cb0-ae6c-ddd49865ee42",
   "metadata": {},
   "outputs": [
    {
     "name": "stdout",
     "output_type": "stream",
     "text": [
      "  Unnamed: 0     opt_B     opt_C     opt_D       k_1       k_2  sorted_order\n",
      "0    001 490  0.015424 -0.716724 -0.043687  0.043687 -0.018239             0\n",
      "1    010 490  0.013868 -0.748472 -0.040560  0.040560 -0.017362             1\n",
      "2    011 490  0.008673 -0.561652 -0.020752  0.020752 -0.007463             2\n",
      "3    100 490  0.036512 -0.118288 -0.015391  0.015391 -0.001628             3\n",
      "4    101 490  0.038674  0.038706 -0.010508  0.010508  0.000423             4\n",
      "5    110 490  0.054242  0.519227 -0.006962  0.006962  0.007518             5      light intensity\n",
      "001     1.572385e+08\n",
      "010     1.066097e+08\n",
      "011     4.887421e+07\n",
      "100     2.549008e+07\n",
      "101     1.176934e+07\n",
      "110     8.132725e+06\n"
     ]
    }
   ],
   "source": [
    "# concat/のデータを用いてkp1, kp2, kt1, kt2を算出する\n",
    "fit_data_dir = \"result\" + data_dir.split(\"vis\")[0].split('時系列')[1] + \"fit_result/concat/\"\n",
    "fit_data = \"result\" + data_dir.split(\"vis\")[0].split('時系列')[1] + \"fit_result/concat/result_df.csv\"\n",
    "\n",
    "# 可視光強度のラベルが同じ順番か確認\n",
    "df_fit_data = pd.read_csv(fit_data)\n",
    "print(df_fit_data, result_df)"
   ]
  },
  {
   "cell_type": "code",
   "execution_count": 17,
   "id": "e120befd-adca-4bc9-bbdf-d13589578920",
   "metadata": {},
   "outputs": [
    {
     "data": {
      "text/plain": [
       "'result/20220921 5HB/30/'"
      ]
     },
     "execution_count": 17,
     "metadata": {},
     "output_type": "execute_result"
    }
   ],
   "source": [
    "plt.rcParams[\"font.family\"] = \"sans-serif\"\n",
    "plt.rcParams[\"font.size\"] = 20\n",
    "fig, ax = plt.subplots(1, 1, figsize=(7, 6))\n",
    "ax.set_xlabel('light intensity')\n",
    "ax.set_ylabel('Kinetic parameters')\n",
    "fig.subplots_adjust(left=0.2)\n",
    "# ax.plot(df[\"wavenumber\"], df[\"photon count\"], color=\"red\", lw='1')\n",
    "\n",
    "# ax.axvspan(x_1, x_2)"
   ]
  },
  {
   "cell_type": "code",
   "execution_count": 10,
   "id": "ab003e53-9436-48d6-a2c9-0e138e92dd89",
   "metadata": {},
   "outputs": [
    {
     "data": {
      "text/plain": [
       "'時系列/20220921 5HB/30/fit_result'"
      ]
     },
     "execution_count": 10,
     "metadata": {},
     "output_type": "execute_result"
    }
   ],
   "source": [
    "fit_data_dir"
   ]
  },
  {
   "cell_type": "code",
   "execution_count": 19,
   "id": "f7fcec1b-a01e-4752-bfed-0ecd77c7f306",
   "metadata": {},
   "outputs": [
    {
     "data": {
      "text/html": [
       "<div>\n",
       "<style scoped>\n",
       "    .dataframe tbody tr th:only-of-type {\n",
       "        vertical-align: middle;\n",
       "    }\n",
       "\n",
       "    .dataframe tbody tr th {\n",
       "        vertical-align: top;\n",
       "    }\n",
       "\n",
       "    .dataframe thead th {\n",
       "        text-align: right;\n",
       "    }\n",
       "</style>\n",
       "<table border=\"1\" class=\"dataframe\">\n",
       "  <thead>\n",
       "    <tr style=\"text-align: right;\">\n",
       "      <th></th>\n",
       "      <th>Unnamed: 0</th>\n",
       "      <th>opt_B</th>\n",
       "      <th>opt_C</th>\n",
       "      <th>opt_D</th>\n",
       "      <th>k_1</th>\n",
       "      <th>k_2</th>\n",
       "      <th>sorted_order</th>\n",
       "    </tr>\n",
       "  </thead>\n",
       "  <tbody>\n",
       "    <tr>\n",
       "      <th>0</th>\n",
       "      <td>001 490</td>\n",
       "      <td>0.015424</td>\n",
       "      <td>-0.716724</td>\n",
       "      <td>-0.043687</td>\n",
       "      <td>0.043687</td>\n",
       "      <td>-0.018239</td>\n",
       "      <td>0</td>\n",
       "    </tr>\n",
       "    <tr>\n",
       "      <th>1</th>\n",
       "      <td>010 490</td>\n",
       "      <td>0.013868</td>\n",
       "      <td>-0.748472</td>\n",
       "      <td>-0.040560</td>\n",
       "      <td>0.040560</td>\n",
       "      <td>-0.017362</td>\n",
       "      <td>1</td>\n",
       "    </tr>\n",
       "    <tr>\n",
       "      <th>2</th>\n",
       "      <td>011 490</td>\n",
       "      <td>0.008673</td>\n",
       "      <td>-0.561652</td>\n",
       "      <td>-0.020752</td>\n",
       "      <td>0.020752</td>\n",
       "      <td>-0.007463</td>\n",
       "      <td>2</td>\n",
       "    </tr>\n",
       "    <tr>\n",
       "      <th>3</th>\n",
       "      <td>100 490</td>\n",
       "      <td>0.036512</td>\n",
       "      <td>-0.118288</td>\n",
       "      <td>-0.015391</td>\n",
       "      <td>0.015391</td>\n",
       "      <td>-0.001628</td>\n",
       "      <td>3</td>\n",
       "    </tr>\n",
       "    <tr>\n",
       "      <th>4</th>\n",
       "      <td>101 490</td>\n",
       "      <td>0.038674</td>\n",
       "      <td>0.038706</td>\n",
       "      <td>-0.010508</td>\n",
       "      <td>0.010508</td>\n",
       "      <td>0.000423</td>\n",
       "      <td>4</td>\n",
       "    </tr>\n",
       "    <tr>\n",
       "      <th>5</th>\n",
       "      <td>110 490</td>\n",
       "      <td>0.054242</td>\n",
       "      <td>0.519227</td>\n",
       "      <td>-0.006962</td>\n",
       "      <td>0.006962</td>\n",
       "      <td>0.007518</td>\n",
       "      <td>5</td>\n",
       "    </tr>\n",
       "  </tbody>\n",
       "</table>\n",
       "</div>"
      ],
      "text/plain": [
       "  Unnamed: 0     opt_B     opt_C     opt_D       k_1       k_2  sorted_order\n",
       "0    001 490  0.015424 -0.716724 -0.043687  0.043687 -0.018239             0\n",
       "1    010 490  0.013868 -0.748472 -0.040560  0.040560 -0.017362             1\n",
       "2    011 490  0.008673 -0.561652 -0.020752  0.020752 -0.007463             2\n",
       "3    100 490  0.036512 -0.118288 -0.015391  0.015391 -0.001628             3\n",
       "4    101 490  0.038674  0.038706 -0.010508  0.010508  0.000423             4\n",
       "5    110 490  0.054242  0.519227 -0.006962  0.006962  0.007518             5"
      ]
     },
     "execution_count": 19,
     "metadata": {},
     "output_type": "execute_result"
    }
   ],
   "source": [
    "df_fit_data"
   ]
  },
  {
   "cell_type": "code",
   "execution_count": 26,
   "id": "d1e0aaf5-b691-4af7-af2d-81f8cc83522a",
   "metadata": {},
   "outputs": [],
   "source": [
    "result_df = result_df.rename(\n",
    "            columns={0: \"light intensity\"}\n",
    "        )"
   ]
  },
  {
   "cell_type": "code",
   "execution_count": 4,
   "id": "34d22487-8a55-4cdf-ae5a-0557a980ea3a",
   "metadata": {},
   "outputs": [
    {
     "data": {
      "text/html": [
       "<div>\n",
       "<style scoped>\n",
       "    .dataframe tbody tr th:only-of-type {\n",
       "        vertical-align: middle;\n",
       "    }\n",
       "\n",
       "    .dataframe tbody tr th {\n",
       "        vertical-align: top;\n",
       "    }\n",
       "\n",
       "    .dataframe thead th {\n",
       "        text-align: right;\n",
       "    }\n",
       "</style>\n",
       "<table border=\"1\" class=\"dataframe\">\n",
       "  <thead>\n",
       "    <tr style=\"text-align: right;\">\n",
       "      <th></th>\n",
       "      <th>light intensity</th>\n",
       "    </tr>\n",
       "  </thead>\n",
       "  <tbody>\n",
       "    <tr>\n",
       "      <th>001</th>\n",
       "      <td>-1.572385e+08</td>\n",
       "    </tr>\n",
       "    <tr>\n",
       "      <th>010</th>\n",
       "      <td>-1.066097e+08</td>\n",
       "    </tr>\n",
       "    <tr>\n",
       "      <th>011</th>\n",
       "      <td>-4.887421e+07</td>\n",
       "    </tr>\n",
       "    <tr>\n",
       "      <th>100</th>\n",
       "      <td>-2.549008e+07</td>\n",
       "    </tr>\n",
       "    <tr>\n",
       "      <th>101</th>\n",
       "      <td>-1.176934e+07</td>\n",
       "    </tr>\n",
       "    <tr>\n",
       "      <th>110</th>\n",
       "      <td>-8.132725e+06</td>\n",
       "    </tr>\n",
       "  </tbody>\n",
       "</table>\n",
       "</div>"
      ],
      "text/plain": [
       "     light intensity\n",
       "001    -1.572385e+08\n",
       "010    -1.066097e+08\n",
       "011    -4.887421e+07\n",
       "100    -2.549008e+07\n",
       "101    -1.176934e+07\n",
       "110    -8.132725e+06"
      ]
     },
     "execution_count": 4,
     "metadata": {},
     "output_type": "execute_result"
    }
   ],
   "source": [
    "result_df.sort_values(\"light intensity\")"
   ]
  },
  {
   "cell_type": "code",
   "execution_count": 7,
   "id": "e07f64ed-6a2d-44f5-b973-0f7fb43bc535",
   "metadata": {},
   "outputs": [],
   "source": [
    "result_df['light intensity'] = result_df['light intensity'].map(apply_abs)"
   ]
  },
  {
   "cell_type": "code",
   "execution_count": 8,
   "id": "e1e99b1a-6f77-4682-9d9b-97425f65b775",
   "metadata": {},
   "outputs": [
    {
     "data": {
      "text/html": [
       "<div>\n",
       "<style scoped>\n",
       "    .dataframe tbody tr th:only-of-type {\n",
       "        vertical-align: middle;\n",
       "    }\n",
       "\n",
       "    .dataframe tbody tr th {\n",
       "        vertical-align: top;\n",
       "    }\n",
       "\n",
       "    .dataframe thead th {\n",
       "        text-align: right;\n",
       "    }\n",
       "</style>\n",
       "<table border=\"1\" class=\"dataframe\">\n",
       "  <thead>\n",
       "    <tr style=\"text-align: right;\">\n",
       "      <th></th>\n",
       "      <th>light intensity</th>\n",
       "    </tr>\n",
       "  </thead>\n",
       "  <tbody>\n",
       "    <tr>\n",
       "      <th>001</th>\n",
       "      <td>1.572385e+08</td>\n",
       "    </tr>\n",
       "    <tr>\n",
       "      <th>010</th>\n",
       "      <td>1.066097e+08</td>\n",
       "    </tr>\n",
       "    <tr>\n",
       "      <th>011</th>\n",
       "      <td>4.887421e+07</td>\n",
       "    </tr>\n",
       "    <tr>\n",
       "      <th>100</th>\n",
       "      <td>2.549008e+07</td>\n",
       "    </tr>\n",
       "    <tr>\n",
       "      <th>101</th>\n",
       "      <td>1.176934e+07</td>\n",
       "    </tr>\n",
       "    <tr>\n",
       "      <th>110</th>\n",
       "      <td>8.132725e+06</td>\n",
       "    </tr>\n",
       "  </tbody>\n",
       "</table>\n",
       "</div>"
      ],
      "text/plain": [
       "     light intensity\n",
       "001     1.572385e+08\n",
       "010     1.066097e+08\n",
       "011     4.887421e+07\n",
       "100     2.549008e+07\n",
       "101     1.176934e+07\n",
       "110     8.132725e+06"
      ]
     },
     "execution_count": 8,
     "metadata": {},
     "output_type": "execute_result"
    }
   ],
   "source": [
    "result_df"
   ]
  },
  {
   "cell_type": "code",
   "execution_count": 10,
   "id": "3cfa2f84-52af-4cee-a2be-ebb90b1930c2",
   "metadata": {},
   "outputs": [
    {
     "data": {
      "text/html": [
       "<div>\n",
       "<style scoped>\n",
       "    .dataframe tbody tr th:only-of-type {\n",
       "        vertical-align: middle;\n",
       "    }\n",
       "\n",
       "    .dataframe tbody tr th {\n",
       "        vertical-align: top;\n",
       "    }\n",
       "\n",
       "    .dataframe thead th {\n",
       "        text-align: right;\n",
       "    }\n",
       "</style>\n",
       "<table border=\"1\" class=\"dataframe\">\n",
       "  <thead>\n",
       "    <tr style=\"text-align: right;\">\n",
       "      <th></th>\n",
       "      <th>light intensity</th>\n",
       "    </tr>\n",
       "  </thead>\n",
       "  <tbody>\n",
       "    <tr>\n",
       "      <th>001</th>\n",
       "      <td>1.572385e+08</td>\n",
       "    </tr>\n",
       "    <tr>\n",
       "      <th>010</th>\n",
       "      <td>1.066097e+08</td>\n",
       "    </tr>\n",
       "    <tr>\n",
       "      <th>011</th>\n",
       "      <td>4.887421e+07</td>\n",
       "    </tr>\n",
       "    <tr>\n",
       "      <th>100</th>\n",
       "      <td>2.549008e+07</td>\n",
       "    </tr>\n",
       "    <tr>\n",
       "      <th>101</th>\n",
       "      <td>1.176934e+07</td>\n",
       "    </tr>\n",
       "    <tr>\n",
       "      <th>110</th>\n",
       "      <td>8.132725e+06</td>\n",
       "    </tr>\n",
       "  </tbody>\n",
       "</table>\n",
       "</div>"
      ],
      "text/plain": [
       "     light intensity\n",
       "001     1.572385e+08\n",
       "010     1.066097e+08\n",
       "011     4.887421e+07\n",
       "100     2.549008e+07\n",
       "101     1.176934e+07\n",
       "110     8.132725e+06"
      ]
     },
     "execution_count": 10,
     "metadata": {},
     "output_type": "execute_result"
    }
   ],
   "source": [
    "result_df.sort_values(\"light intensity\", ascending=False)"
   ]
  },
  {
   "cell_type": "code",
   "execution_count": null,
   "id": "36b3c243-8a1f-42ca-89c5-f58f7aa836b2",
   "metadata": {},
   "outputs": [],
   "source": []
  }
 ],
 "metadata": {
  "kernelspec": {
   "display_name": "Python 3",
   "language": "python",
   "name": "python3"
  },
  "language_info": {
   "codemirror_mode": {
    "name": "ipython",
    "version": 3
   },
   "file_extension": ".py",
   "mimetype": "text/x-python",
   "name": "python",
   "nbconvert_exporter": "python",
   "pygments_lexer": "ipython3",
   "version": "3.8.8"
  }
 },
 "nbformat": 4,
 "nbformat_minor": 5
}
